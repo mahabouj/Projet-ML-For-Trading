{
 "cells": [
  {
   "cell_type": "code",
   "execution_count": null,
   "metadata": {},
   "outputs": [],
   "source": [
    "! pip install tabulate\n",
    "! pip install\n",
    "! pip install nltk\n",
    "! pip install textblob"
   ]
  },
  {
   "cell_type": "code",
   "execution_count": null,
   "metadata": {
    "id": "Js0wpdoe16mH"
   },
   "outputs": [],
   "source": [
    "import numpy as np\n",
    "import yfinance as yf\n",
    "import pandas as pd\n",
    "import seaborn as sns\n",
    "import matplotlib.pyplot as plt\n",
    "from tabulate import tabulate\n",
    "from transformers import BertTokenizer, BertForSequenceClassification, pipeline\n",
    "from sklearn.feature_extraction.text import TfidfVectorizer, CountVectorizer"
   ]
  },
  {
   "cell_type": "code",
   "execution_count": 2,
   "metadata": {},
   "outputs": [],
   "source": [
    "import sys\n",
    "sys.path.append(\"c:/Users/DENISA/Documents/3A/ML for trading/coding/skfin\")"
   ]
  },
  {
   "cell_type": "code",
   "execution_count": 3,
   "metadata": {},
   "outputs": [],
   "source": [
    "from skfin.plot import line"
   ]
  },
  {
   "cell_type": "markdown",
   "metadata": {
    "id": "GOo0XDkCmuri"
   },
   "source": [
    "**Expliquer ce qu'on veut faire: la problématique etc...***"
   ]
  },
  {
   "cell_type": "code",
   "execution_count": 11,
   "metadata": {
    "colab": {
     "base_uri": "https://localhost:8080/"
    },
    "id": "100PBUBZKRzn",
    "outputId": "927652f3-1ae8-45ae-de08-d43b0400be4c"
   },
   "outputs": [
    {
     "name": "stdout",
     "output_type": "stream",
     "text": [
      "Download successful, saved as 'ecb_speeches.csv'\n"
     ]
    }
   ],
   "source": [
    "\n",
    "import requests\n",
    "\n",
    "# URL for downloading the ECB speeches CSV\n",
    "csv_url = \"https://www.ecb.europa.eu/press/key/shared/data/all_ECB_speeches.csv?e71dfd40f5555777ae06473522d191b4\"\n",
    "\n",
    "# Send a GET request to download the file\n",
    "response = requests.get(csv_url)\n",
    "\n",
    "\n",
    "if response.status_code == 200:\n",
    "    # Save the CSV content to a file\n",
    "    with open('ecb_speeches.csv', 'wb') as file:\n",
    "        file.write(response.content)\n",
    "    print(\"Download successful, saved as 'ecb_speeches.csv'\")\n",
    "else:\n",
    "    print(f\"Failed to download the file. Status code: {response.status_code}\")\n",
    "speeches = pd.read_csv(\"ecb_speeches.csv\", header=0, sep='|')"
   ]
  },
  {
   "cell_type": "code",
   "execution_count": 180,
   "metadata": {
    "id": "jGTRyHxn0jaD"
   },
   "outputs": [],
   "source": [
    "\n",
    "speeches = speeches[speeches['date'] <= '2024-10-30'].reset_index(drop=True).dropna() # the database is continously updated, so we restrain our analysis at dates previous to 30/10/2024"
   ]
  },
  {
   "cell_type": "code",
   "execution_count": 181,
   "metadata": {
    "colab": {
     "base_uri": "https://localhost:8080/",
     "height": 589
    },
    "id": "RrmpaUyJ3cF3",
    "outputId": "f94a0aaa-a800-4c11-da85-82410d8fea70"
   },
   "outputs": [
    {
     "data": {
      "text/html": [
       "<div>\n",
       "<style scoped>\n",
       "    .dataframe tbody tr th:only-of-type {\n",
       "        vertical-align: middle;\n",
       "    }\n",
       "\n",
       "    .dataframe tbody tr th {\n",
       "        vertical-align: top;\n",
       "    }\n",
       "\n",
       "    .dataframe thead th {\n",
       "        text-align: right;\n",
       "    }\n",
       "</style>\n",
       "<table border=\"1\" class=\"dataframe\">\n",
       "  <thead>\n",
       "    <tr style=\"text-align: right;\">\n",
       "      <th></th>\n",
       "      <th>date</th>\n",
       "      <th>speakers</th>\n",
       "      <th>title</th>\n",
       "      <th>subtitle</th>\n",
       "      <th>contents</th>\n",
       "    </tr>\n",
       "  </thead>\n",
       "  <tbody>\n",
       "    <tr>\n",
       "      <th>0</th>\n",
       "      <td>2024-10-28</td>\n",
       "      <td>Frank Elderson</td>\n",
       "      <td>Transcript of video recording for Finance and ...</td>\n",
       "      <td>Contribution by Frank Elderson, Member of the ...</td>\n",
       "      <td>SPEECH  Transcript of video recording for Fi...</td>\n",
       "    </tr>\n",
       "    <tr>\n",
       "      <th>1</th>\n",
       "      <td>2024-10-28</td>\n",
       "      <td>Luis de Guindos</td>\n",
       "      <td>Monetary policy and financial stability in the...</td>\n",
       "      <td>Introductory remarks by Luis de Guindos, Vice-...</td>\n",
       "      <td>SPEECH  Monetary policy and financial stabil...</td>\n",
       "    </tr>\n",
       "    <tr>\n",
       "      <th>2</th>\n",
       "      <td>2024-10-25</td>\n",
       "      <td>Christine Lagarde</td>\n",
       "      <td>IMFC Statement</td>\n",
       "      <td>Statement by Christine Lagarde, President of t...</td>\n",
       "      <td>SPEECH  IMFC Statement    Statement by Chris...</td>\n",
       "    </tr>\n",
       "    <tr>\n",
       "      <th>3</th>\n",
       "      <td>2024-10-24</td>\n",
       "      <td>Philip R. Lane</td>\n",
       "      <td>Underlying inflation: an update</td>\n",
       "      <td>Speech by Philip R. Lane, Member of the Execut...</td>\n",
       "      <td>SPEECH  Underlying inflation: an update   Sp...</td>\n",
       "    </tr>\n",
       "    <tr>\n",
       "      <th>4</th>\n",
       "      <td>2024-10-16</td>\n",
       "      <td>Christine Lagarde</td>\n",
       "      <td>Lessons from Ljubljana in uncertain times</td>\n",
       "      <td>Speech by Christine Lagarde, President of the ...</td>\n",
       "      <td>SPEECH  Lessons from Ljubljana in uncertain ...</td>\n",
       "    </tr>\n",
       "    <tr>\n",
       "      <th>...</th>\n",
       "      <td>...</td>\n",
       "      <td>...</td>\n",
       "      <td>...</td>\n",
       "      <td>...</td>\n",
       "      <td>...</td>\n",
       "    </tr>\n",
       "    <tr>\n",
       "      <th>2725</th>\n",
       "      <td>1997-05-13</td>\n",
       "      <td>Alexandre Lamfalussy</td>\n",
       "      <td>The European Central Bank: independent and acc...</td>\n",
       "      <td>Keynote speech delivered by Alexandre Lamfalus...</td>\n",
       "      <td>The European Central Bank: independent and a...</td>\n",
       "    </tr>\n",
       "    <tr>\n",
       "      <th>2726</th>\n",
       "      <td>1997-04-30</td>\n",
       "      <td>Alexandre Lamfalussy</td>\n",
       "      <td>The operation of monetary policy in stage thre...</td>\n",
       "      <td>Address by Alexandre Lamfalussy, President of ...</td>\n",
       "      <td>The operation of monetary policy in stage th...</td>\n",
       "    </tr>\n",
       "    <tr>\n",
       "      <th>2727</th>\n",
       "      <td>1997-04-22</td>\n",
       "      <td>Alexandre Lamfalussy</td>\n",
       "      <td>Convergence and the role of the European Centr...</td>\n",
       "      <td>Remarks by Alexandre Lamfalussy, President of ...</td>\n",
       "      <td>Convergence and the role of the European Cen...</td>\n",
       "    </tr>\n",
       "    <tr>\n",
       "      <th>2728</th>\n",
       "      <td>1997-03-10</td>\n",
       "      <td>Alexandre Lamfalussy</td>\n",
       "      <td>Securing the benefits of EMU</td>\n",
       "      <td>Address by Alexandre Lamfalussy, President of ...</td>\n",
       "      <td>Securing the benefits of EMU   Address by Al...</td>\n",
       "    </tr>\n",
       "    <tr>\n",
       "      <th>2729</th>\n",
       "      <td>1997-02-07</td>\n",
       "      <td>Alexandre Lamfalussy</td>\n",
       "      <td>Conference organised by the Hungarian Banking ...</td>\n",
       "      <td>Address by Alexandre Lamfalussy, President of ...</td>\n",
       "      <td>Conference organised by the Hungarian Bankin...</td>\n",
       "    </tr>\n",
       "  </tbody>\n",
       "</table>\n",
       "<p>2730 rows × 5 columns</p>\n",
       "</div>"
      ],
      "text/plain": [
       "            date              speakers  \\\n",
       "0     2024-10-28        Frank Elderson   \n",
       "1     2024-10-28       Luis de Guindos   \n",
       "2     2024-10-25     Christine Lagarde   \n",
       "3     2024-10-24        Philip R. Lane   \n",
       "4     2024-10-16     Christine Lagarde   \n",
       "...          ...                   ...   \n",
       "2725  1997-05-13  Alexandre Lamfalussy   \n",
       "2726  1997-04-30  Alexandre Lamfalussy   \n",
       "2727  1997-04-22  Alexandre Lamfalussy   \n",
       "2728  1997-03-10  Alexandre Lamfalussy   \n",
       "2729  1997-02-07  Alexandre Lamfalussy   \n",
       "\n",
       "                                                  title  \\\n",
       "0     Transcript of video recording for Finance and ...   \n",
       "1     Monetary policy and financial stability in the...   \n",
       "2                                       IMFC Statement    \n",
       "3                       Underlying inflation: an update   \n",
       "4             Lessons from Ljubljana in uncertain times   \n",
       "...                                                 ...   \n",
       "2725  The European Central Bank: independent and acc...   \n",
       "2726  The operation of monetary policy in stage thre...   \n",
       "2727  Convergence and the role of the European Centr...   \n",
       "2728                       Securing the benefits of EMU   \n",
       "2729  Conference organised by the Hungarian Banking ...   \n",
       "\n",
       "                                               subtitle  \\\n",
       "0     Contribution by Frank Elderson, Member of the ...   \n",
       "1     Introductory remarks by Luis de Guindos, Vice-...   \n",
       "2     Statement by Christine Lagarde, President of t...   \n",
       "3     Speech by Philip R. Lane, Member of the Execut...   \n",
       "4     Speech by Christine Lagarde, President of the ...   \n",
       "...                                                 ...   \n",
       "2725  Keynote speech delivered by Alexandre Lamfalus...   \n",
       "2726  Address by Alexandre Lamfalussy, President of ...   \n",
       "2727  Remarks by Alexandre Lamfalussy, President of ...   \n",
       "2728  Address by Alexandre Lamfalussy, President of ...   \n",
       "2729  Address by Alexandre Lamfalussy, President of ...   \n",
       "\n",
       "                                               contents  \n",
       "0       SPEECH  Transcript of video recording for Fi...  \n",
       "1       SPEECH  Monetary policy and financial stabil...  \n",
       "2       SPEECH  IMFC Statement    Statement by Chris...  \n",
       "3       SPEECH  Underlying inflation: an update   Sp...  \n",
       "4       SPEECH  Lessons from Ljubljana in uncertain ...  \n",
       "...                                                 ...  \n",
       "2725    The European Central Bank: independent and a...  \n",
       "2726    The operation of monetary policy in stage th...  \n",
       "2727    Convergence and the role of the European Cen...  \n",
       "2728    Securing the benefits of EMU   Address by Al...  \n",
       "2729    Conference organised by the Hungarian Bankin...  \n",
       "\n",
       "[2730 rows x 5 columns]"
      ]
     },
     "execution_count": 181,
     "metadata": {},
     "output_type": "execute_result"
    }
   ],
   "source": [
    "speeches"
   ]
  },
  {
   "cell_type": "markdown",
   "metadata": {
    "id": "hOxcuydSLxFc"
   },
   "source": [
    "#I - Statistiques Descriptives"
   ]
  },
  {
   "cell_type": "code",
   "execution_count": 182,
   "metadata": {
    "id": "EEcQ2n1U6yJX"
   },
   "outputs": [],
   "source": [
    "# Nous nous intéressons uniquement aux discours de la BCE ainsi qu'à leurs dates: nous analyserons les discours afin de déterminer ceux qui ont trait à\n",
    "# l'environnement grâce au LLM, quant aux dates, nous les utiliserons afin de pouvoir analyser voir leur l'effet des discours sur les cours\n",
    "# des actions d'entreprises de pétrole et de gaz sur un intervalle de temps\n",
    "# déterminé\n",
    "speeches_contents_date=speeches[['date','contents']]"
   ]
  },
  {
   "cell_type": "code",
   "execution_count": 183,
   "metadata": {
    "colab": {
     "base_uri": "https://localhost:8080/",
     "height": 419
    },
    "id": "fTwK17y08VT5",
    "outputId": "e3e06631-884c-4d53-8cfe-8eaeb32bc9c6"
   },
   "outputs": [
    {
     "data": {
      "text/html": [
       "<div>\n",
       "<style scoped>\n",
       "    .dataframe tbody tr th:only-of-type {\n",
       "        vertical-align: middle;\n",
       "    }\n",
       "\n",
       "    .dataframe tbody tr th {\n",
       "        vertical-align: top;\n",
       "    }\n",
       "\n",
       "    .dataframe thead th {\n",
       "        text-align: right;\n",
       "    }\n",
       "</style>\n",
       "<table border=\"1\" class=\"dataframe\">\n",
       "  <thead>\n",
       "    <tr style=\"text-align: right;\">\n",
       "      <th></th>\n",
       "      <th>date</th>\n",
       "      <th>contents</th>\n",
       "    </tr>\n",
       "  </thead>\n",
       "  <tbody>\n",
       "    <tr>\n",
       "      <th>0</th>\n",
       "      <td>2024-10-28</td>\n",
       "      <td>SPEECH  Transcript of video recording for Fi...</td>\n",
       "    </tr>\n",
       "    <tr>\n",
       "      <th>1</th>\n",
       "      <td>2024-10-28</td>\n",
       "      <td>SPEECH  Monetary policy and financial stabil...</td>\n",
       "    </tr>\n",
       "    <tr>\n",
       "      <th>2</th>\n",
       "      <td>2024-10-25</td>\n",
       "      <td>SPEECH  IMFC Statement    Statement by Chris...</td>\n",
       "    </tr>\n",
       "    <tr>\n",
       "      <th>3</th>\n",
       "      <td>2024-10-24</td>\n",
       "      <td>SPEECH  Underlying inflation: an update   Sp...</td>\n",
       "    </tr>\n",
       "    <tr>\n",
       "      <th>4</th>\n",
       "      <td>2024-10-16</td>\n",
       "      <td>SPEECH  Lessons from Ljubljana in uncertain ...</td>\n",
       "    </tr>\n",
       "    <tr>\n",
       "      <th>...</th>\n",
       "      <td>...</td>\n",
       "      <td>...</td>\n",
       "    </tr>\n",
       "    <tr>\n",
       "      <th>2725</th>\n",
       "      <td>1997-05-13</td>\n",
       "      <td>The European Central Bank: independent and a...</td>\n",
       "    </tr>\n",
       "    <tr>\n",
       "      <th>2726</th>\n",
       "      <td>1997-04-30</td>\n",
       "      <td>The operation of monetary policy in stage th...</td>\n",
       "    </tr>\n",
       "    <tr>\n",
       "      <th>2727</th>\n",
       "      <td>1997-04-22</td>\n",
       "      <td>Convergence and the role of the European Cen...</td>\n",
       "    </tr>\n",
       "    <tr>\n",
       "      <th>2728</th>\n",
       "      <td>1997-03-10</td>\n",
       "      <td>Securing the benefits of EMU   Address by Al...</td>\n",
       "    </tr>\n",
       "    <tr>\n",
       "      <th>2729</th>\n",
       "      <td>1997-02-07</td>\n",
       "      <td>Conference organised by the Hungarian Bankin...</td>\n",
       "    </tr>\n",
       "  </tbody>\n",
       "</table>\n",
       "<p>2730 rows × 2 columns</p>\n",
       "</div>"
      ],
      "text/plain": [
       "            date                                           contents\n",
       "0     2024-10-28    SPEECH  Transcript of video recording for Fi...\n",
       "1     2024-10-28    SPEECH  Monetary policy and financial stabil...\n",
       "2     2024-10-25    SPEECH  IMFC Statement    Statement by Chris...\n",
       "3     2024-10-24    SPEECH  Underlying inflation: an update   Sp...\n",
       "4     2024-10-16    SPEECH  Lessons from Ljubljana in uncertain ...\n",
       "...          ...                                                ...\n",
       "2725  1997-05-13    The European Central Bank: independent and a...\n",
       "2726  1997-04-30    The operation of monetary policy in stage th...\n",
       "2727  1997-04-22    Convergence and the role of the European Cen...\n",
       "2728  1997-03-10    Securing the benefits of EMU   Address by Al...\n",
       "2729  1997-02-07    Conference organised by the Hungarian Bankin...\n",
       "\n",
       "[2730 rows x 2 columns]"
      ]
     },
     "execution_count": 183,
     "metadata": {},
     "output_type": "execute_result"
    }
   ],
   "source": [
    "speeches_contents_date"
   ]
  },
  {
   "cell_type": "code",
   "execution_count": 135,
   "metadata": {
    "colab": {
     "base_uri": "https://localhost:8080/",
     "height": 145
    },
    "id": "zn_t_Xac7k7B",
    "outputId": "259c0cf7-5365-415f-c8db-cc925e874353"
   },
   "outputs": [
    {
     "data": {
      "text/plain": [
       "date        0.0\n",
       "contents    0.0\n",
       "dtype: float64"
      ]
     },
     "execution_count": 135,
     "metadata": {},
     "output_type": "execute_result"
    }
   ],
   "source": [
    "# La proportion de NaN dans chacune des colonnes\n",
    "speeches_contents_date.isna().sum()/len(speeches_contents_date)"
   ]
  },
  {
   "cell_type": "code",
   "execution_count": 137,
   "metadata": {
    "colab": {
     "base_uri": "https://localhost:8080/"
    },
    "id": "s4E_agJ0bJFO",
    "outputId": "74aaaefb-1401-42a1-b041-4eea5cbc7ccd"
   },
   "outputs": [
    {
     "name": "stdout",
     "output_type": "stream",
     "text": [
      "19697.85238095238\n"
     ]
    }
   ],
   "source": [
    "# Le nombre de caractères moyen par discours\n",
    "speeches_contents_date.loc[:, 'length'] = speeches_contents_date['contents'].str.len()\n",
    "average_length = speeches_contents_date['length'].mean()\n",
    "print(average_length)\n"
   ]
  },
  {
   "cell_type": "code",
   "execution_count": 139,
   "metadata": {
    "colab": {
     "base_uri": "https://localhost:8080/"
    },
    "id": "Ds3FTFmLcFCb",
    "outputId": "f42cfc06-5b0a-46fd-87d1-4d8e5e751572"
   },
   "outputs": [
    {
     "name": "stdout",
     "output_type": "stream",
     "text": [
      "146.52527472527473\n"
     ]
    }
   ],
   "source": [
    "# Le nombre de caractères moyen par phrase du discours : cela nous sera utile plus tard dans l'utilisation du LLM\n",
    "speeches_contents_date.loc[:,'length_per_stc'] = speeches_contents_date.loc[:,'contents'].str.split('.').str.len()\n",
    "average_length_stc = speeches_contents_date['length_per_stc'].mean()\n",
    "print(average_length_stc)"
   ]
  },
  {
   "cell_type": "code",
   "execution_count": 142,
   "metadata": {
    "colab": {
     "base_uri": "https://localhost:8080/",
     "height": 913
    },
    "id": "tcULGjuPdC3u",
    "outputId": "0b1968c0-f743-47da-dd4f-faf1b7f88ed7"
   },
   "outputs": [
    {
     "data": {
      "image/png": "[encoded data removed]",
      "text/plain": [
       "<Figure size 1600x600 with 2 Axes>"
      ]
     },
     "metadata": {},
     "output_type": "display_data"
    }
   ],
   "source": [
    "# La fréquence des speechs par mois et par années\n",
    "#Modifier en nombre de speechs par quarter\n",
    "speeches_contents_date['date'] = pd.to_datetime(speeches_contents_date['date'])\n",
    "speeches_contents_date.loc[:,'year'] = speeches_contents_date['date'].dt.year\n",
    "speeches_contents_date.loc[:,'month'] = speeches_contents_date['date'].dt.month\n",
    "speeches_per_year = speeches_contents_date.groupby('year').size()\n",
    "# Group speeches by quarter\n",
    "speeches_contents_date['year_quarter'] = speeches_contents_date['date'].dt.to_period('Q')\n",
    "speeches_per_quarter = speeches_contents_date.groupby('year_quarter').size()\n",
    "\n",
    "fig, axes = plt.subplots(1, 2, figsize=(16, 6))\n",
    "speeches_per_year.plot(kind='bar', color='skyblue', ax=axes[0], title='Nombre de discours par année')\n",
    "axes[0].set_xlabel('Année')\n",
    "axes[0].set_ylabel('Nombre de discours')\n",
    "axes[0].tick_params(axis='x', rotation=45)\n",
    "axes[0].grid(axis='y', linestyle='--', alpha=0.7)\n",
    "speeches_per_quarter.plot(kind='line', marker='o', color='green', ax=axes[1], title='Nombre de discours par quarter')\n",
    "axes[1].set_xlabel('Mois')\n",
    "axes[1].set_ylabel('Nombre de discours')\n",
    "axes[1].grid(axis='y', linestyle='--', alpha=0.7)\n",
    "plt.tight_layout()\n",
    "plt.show()"
   ]
  },
  {
   "cell_type": "markdown",
   "metadata": {
    "id": "KlP-TIhbMPDn"
   },
   "source": [
    "#II - Prédiction des discours à caractère environnemental"
   ]
  },
  {
   "cell_type": "code",
   "execution_count": 143,
   "metadata": {
    "id": "8OvW6xhZ78sm"
   },
   "outputs": [],
   "source": [
    "# Les discours sous formar Numpy Array\n",
    "speeches_contents=speeches_contents_date['contents'].values"
   ]
  },
  {
   "cell_type": "code",
   "execution_count": null,
   "metadata": {
    "colab": {
     "base_uri": "https://localhost:8080/",
     "height": 137
    },
    "id": "545v5Du49CoN",
    "outputId": "0029eff1-2fe3-40d7-bd71-b9e1b4c9a778"
   },
   "outputs": [
    {
     "data": {
      "application/vnd.google.colaboratory.intrinsic+json": {
       "type": "string"
      },
      "text/plain": [
       "\"  SPEECH  IMFC Statement    Statement by Christine Lagarde, President of the ECB, at the fiftieth meeting of the International Monetary and Financial Committee IMF Annual Meetings, 25 October 2024   Introduction  Since our last meeting in April, the global growth outlook has remained broadly unchanged. While global growth is projected to expand at a moderate pace , risks to the outlook have shifted to the downside, reflecting rising economic policy uncertainty against a backdrop of heightened geopolitical tensions. Global headline inflation continues to recede amid falling energy prices, the normalisation of supply conditions and still tight monetary policy. In October the Governing Council lowered the three key ECB interest rates by 25 basis points. The decision to lower the deposit facility rate – the rate through which it steers the monetary policy stance – reflects the Governing Council’s updated assessment of the inflation outlook, the dynamics of underlying inflation and the strength of monetary policy transmission. The incoming information on inflation shows that the disinflation process is well on track. Recent indicators of economic activity have surprised somewhat to the downside and financing conditions remain restrictive. The Governing Council will keep policy rates sufficiently restrictive for as long as necessary to achieve its two per cent medium-term inflation target in a timely manner. The appropriate level and duration of restriction will continue to be determined by following a data-dependent and meeting-by-meeting approach. In particular, the Governing Council’s interest rate decisions will be based on its assessment of the inflation outlook, the dynamics of underlying inflation and the strength of monetary policy transmission. The Governing Council is not pre-committing to a particular interest rate path. The Governing Council recently initiated an assessment of its monetary policy strategy, which will focus on the changed inflation environment and its implications for the monetary policy strategy, with conclusions expected in the second half of 2025. Economic activity After the broad stagnation in activity in 2023, euro area real GDP expanded moderately in the first half of this year, helped by the recovery in foreign demand and public spending. Private domestic demand remained weak, with households and firms still hesitant to consume and invest. Incoming data suggest economic activity may have softened again in the second half of the year amid rising geopolitical uncertainty. Looking ahead, we expect growth to strengthen over time, as rising real incomes support household consumption and the gradually fading effects of restrictive monetary policy should support consumption and investment. Exports should contribute to the recovery as global demand rises. The labour market remains resilient, but indicators point towards cooling labour demand on the back of weaker economic activity. Employment continued to grow in the second quarter of 2024, albeit at a slower rate than in the first quarter of the year. In August the unemployment rate remained at 6.4%, its lowest level since the introduction of the euro. Labour productivity is expected to recover in the future as labour hoarding unwinds and profit margins moderate. Fiscal and structural policies should be aimed at making the economy more productive, competitive and resilient. That would help to raise potential growth and reduce price pressures in the medium term. To this end, it is crucial to swiftly follow up, with concrete and ambitious structural policies, on Mario Draghi's proposals for enhancing European competitiveness and Enrico Letta’s proposals for empowering the Single Market. Implementing the EU’s revised economic governance framework fully, transparently and without delay will help governments bring down budget deficits and debt ratios on a sustained basis. Governments should now make a strong start in this direction in their medium-term plans for fiscal and structural policies. Risks to growth remain tilted to the downside. Lower confidence could prevent consumption and investment from recovering as quickly as expected. This could be amplified by sources of geopolitical risk, such as Russia’s unjustified war against Ukraine and the conflict in the Middle East, which could disrupt energy supplies and global trade. Lower demand for euro area exports due, for instance, to a weaker world economy or an escalation in trade tensions between major economies would further weigh on euro area growth. Growth could be lower if the lagged impact of our monetary policy tightening turns out stronger than expected. However, growth could also be higher if the world economy grows more strongly than expected or if easier financing conditions and declining inflation lead to a faster rebound in consumption and investment. Inflation Headline inflation fell to 1.7% in September 2024 due mainly to a sharp drop in energy inflation, following a broadly declining path since the last IMFC meeting. Core inflation – HICP inflation excluding energy and food – began to moderate in recent months after an overall sideways trend, reflecting mainly declining goods inflation. Services inflation edged down in September, but has been more persistent, hovering around 4%. Most measures of underlying inflation have been gradually moderating in recent months. However, domestic inflation remains elevated, with strong price pressures coming from wages in particular. Wage growth has continued to be strong, but overall growth in labour costs has been moderating in recent quarters and profits have been buffering the impact of higher wages on inflation. Looking ahead, we expect inflation to temporarily increase again in the fourth quarter of this year as the previous sharp falls in energy prices drop out of the annual rates. Thereafter, inflation should resume its decline, reaching our target next year and averaging 1.9% in 2026 according to the September staff projections. Inflation could turn out higher than anticipated if wages or profits increase by more than expected. Upside risks to inflation also stem from the heightened geopolitical tensions, which could disrupt global trade and push energy prices and freight costs higher in the near term. Moreover, extreme weather events, and the unfolding climate crisis more broadly, could drive up food prices. By contrast, inflation may surprise on the downside if low confidence and concerns about geopolitical events prevent consumption and investment from recovering as fast as expected, if monetary policy dampens demand more than expected, or if the economic environment in the rest of the world worsens unexpectedly. Financial stability, euro area banking sector and non-bank financial intermediation The financial stability of the euro area continues to be affected by geopolitical risks and uncertainties surrounding the macroeconomic outlook. The financial stability outlook remains fragile, with elevated vulnerabilities. Geopolitical risks from intra- and inter-country conflicts coupled with election uncertainties could trigger a sharp reversal of risk sentiment and weaken macro-financial conditions, leading to negative feedback loops between governments and both the non-financial and financial sectors. While the sharp corrections we saw in financial markets over the summer were short-lived, benign risk pricing underscores the potential for more disruptive developments. Additionally, although commercial real estate markets have shown signs of stabilising, the full scale of the correction may not yet have been reflected in valuations, which are slow to adjust. Euro area banks have been a source of resilience thanks to their sizeable liquidity and capital buffers, and their profitability has been robust thanks to improved net interest margins. However, these profits will likely begin to moderate alongside declining rates. Asset quality is starting to weaken from a historically high level, particularly in commercial property lending. Bank valuations remain subdued and are vulnerable to geopolitical uncertainty, although recent political events have had a limited impact on the financial sector more broadly. From a macroprudential policy perspective and against a background of headwinds and uncertainty, it is crucial that the existing requirements for releasable capital buffers are maintained, or in some countries increased, and that adequate borrower-based measures are implemented as required. It is important that key jurisdictions are making progress in implementing Basel III. A full, faithful and timely implementation of Basel III is crucial, as strong regulation and supervision ensure that banks remain safe and sound. Risks in the non-bank financial intermediation (NBFI) sector remain elevated, despite some rebalancing towards higher-quality assets. Asset price corrections and market volatility, as well as macroeconomic and geopolitical uncertainty, could trigger outflows from open-ended investment funds or margin calls for investment funds, insurance companies and pension funds. These dynamics would increase the likelihood of forced sales, which could negatively affect the markets in which non-bank financial intermediaries invest. Additionally, parts of the NBFI sector are highly leveraged, which could amplify liquidity shocks to the wider financial system. This underlines the need to strengthen the NBFI policy framework, including from a macroprudential perspective, in an internationally coordinated manner. International cooperation   Geopolitical tensions are increasingly giving rise to economic and financial fragmentation and pose a significant risk to global prosperity, with trade flows already visibly decoupling along lines of geopolitical influence. So far, this decoupling has been limited to specific sectors, such as energy and key advanced technologies. ECB analysis suggests that trade fragmentation could result in global GDP losses ranging from nearly 6% in a scenario of higher trade barriers only being erected for strategic products, to 9% in a more severe scenario of full decoupling. Trade fragmentation could lead to renewed inflationary pressures globally, not only because of increased production input costs but also on account of reduced diversification opportunities. Overall, this would make it more challenging for central banks to ensure price stability. It is therefore crucial that legitimate concerns about security and supply chain resilience do not lead to a spiral of protectionism. Multilateral cooperation is more important than ever if we are to preserve the unparalleled achievements in global growth and poverty reduction of recent decades, and securing global peace is a precondition for economic prosperity.   With the IMF marking its 80th anniversary this year, its role and work remain absolutely critical in the current complex global environment. The Fund’s multilateral and bilateral surveillance function remains as important as ever in protecting member countries from crises, and the upcoming Comprehensive Surveillance Review will help establish the most relevant priorities for years to come. We welcome the recent decisions to strengthen the IMF’s lending toolkit as part of the Review of Charges and the Surcharges Policy and the Review of the Poverty Reduction and Growth Trust Facilities and Financing. We support the IMF’s position at the centre of the global financial safety net, with a strong core mandate, and we highly value its unique role in bridge-building and facilitating global cooperation to tackle common challenges. We welcome the fact that Sub-Saharan Africa will shortly occupy the newly created seat on the IMF’s Executive Board, which will significantly contribute to improving the overall balance of regional representation. We continue to witness an increase in economic losses and financial risks stemming from extreme physical climate hazards, including record-breaking heatwaves in Asia, devastating floods and wildfires in the Americas and central and eastern Europe, and more frequent tropical storms in the Caribbean and South Asia. Adaptation measures to shield our lives and economies from the impact of climate change, alongside ambitious policies to put the climate transition on track, are more relevant than ever. We support international progress on transition planning, enabling corporations, financial institutions and governments to set up credible net-zero roadmaps in a systematic way. Furthermore, it is essential to further develop more systematic and comprehensive approaches to assess the impact of escalating nature-related economic and financial risks on price and financial stability, including integrated climate and nature risk analyses.     \""
      ]
     },
     "execution_count": 15,
     "metadata": {},
     "output_type": "execute_result"
    }
   ],
   "source": [
    "speeches_contents[2]"
   ]
  },
  {
   "cell_type": "markdown",
   "metadata": {
    "id": "9j3j3kWgQpgP"
   },
   "source": [
    "**Présentation du LLM (d'où il vient, ce qu'il fait, comment se fait le calcule du niveau de confidence...)**"
   ]
  },
  {
   "cell_type": "code",
   "execution_count": 131,
   "metadata": {
    "colab": {
     "base_uri": "https://localhost:8080/",
     "height": 235,
     "referenced_widgets": [
      "c4f8d4f2412348eda3684094cb3216d5",
      "99293c7928f243b2a8f96b9ecfaf4a36",
      "4a333ec745614a48a9de496bf36d2959",
      "f12a8f055ab44f8fbe8649f30c4c26a3",
      "44d7ae2c210245d198639765d930004b",
      "9ff304a5d5004520a8657cbc4fee9747",
      "9936d4ec1fc54fbe96523860589d08c3",
      "fdcf1a41059f42079f7a9beebaa28cac",
      "e5d9668c7cb242189079c0d4f1bd47a0",
      "c485c35ae2804a37991bb6c2577e7576",
      "5b45f2e2ef0446fea1c667d68df54941",
      "3f626c97f4fe4475af343d35444ff197",
      "7ac17a75f38f4464ab5f2e95ebc015f1",
      "6cf755ae07384437b283cee87d7a4ef7",
      "3a927bb2e8254077a53233375e7d243b",
      "a66c9b08338a4aa7a24bdd56653a529a",
      "19ed961366214494b3751eb6c1b8cfab",
      "cafc23f4dd4c4e108c4755bac35eb35f",
      "27d2eafc216c407dbb8501249cb8b23c",
      "1317f6fb613a4b11b0525049b99c8302",
      "8c29a9b2db8d4cff9ec58ce7675abb7a",
      "a6f05d29fec84bca9a064b6aad9baf95",
      "3469cf2cf70b4ded81ead71ea05cb74e",
      "0b37ba5288134d9a9761a0ea95e4b2f7",
      "1f5d7f3b14a1491f885de3787abfa1a5",
      "9245bb3bb24b4fa8acca2117c4732276",
      "9ed58813325641629519a215b41ad66e",
      "031ba1fe267b4a84a5b0c946b9805c5f",
      "3d318048938c45f294881e0e2517faf1",
      "baf1bbc752124ec2bef19c182a4c5d17",
      "14a94abecf5e41a7bd46d992fe33d328",
      "e17895739a4644749cbd326c84d2dc28",
      "42943baebb8d4a9c9487707c56560c65"
     ]
    },
    "id": "x4kIrlBy5HXw",
    "outputId": "848dc093-6bed-4818-bcac-b48fa8b37d55"
   },
   "outputs": [],
   "source": [
    "finbert = BertForSequenceClassification.from_pretrained('yiyanghkust/finbert-esg',num_labels=4)\n",
    "tokenizer = BertTokenizer.from_pretrained('yiyanghkust/finbert-esg')\n",
    "nlp = pipeline(\"text-classification\", model=finbert, tokenizer=tokenizer, truncation=True, padding=True, max_length=512)"
   ]
  },
  {
   "cell_type": "markdown",
   "metadata": {
    "id": "-9dThQ-1OPBl"
   },
   "source": [
    "**La particularité de notre LLM est que ce dernier ne peut process que des textes ayant un nombre de caractères inférieur ou égale à 520. Au vu de la longueur des discours dans notre database, nous devons split les discours. Une première méthode a été de split les discours par phrases, de catégoriser les phrases puis d'utiliser le critère majoritaire pour catégoriser un discours. Nous commes conscientes que celà peut entrainer des biais, notamment le biais de perte de contexte, car une phrase isolée peut ne pas suffire à capturer l'intention ou la thématique générale du discours. Par exemple, une phrase comme \"L'impact des émissions de CO2 sur l'économie est indéniable\" pourrait être catégorisée comme environnementale, alors que la phrase suivante, \"Cependant, les priorités actuelles restent centrées sur la stabilité monétaire\", modifie le sens global en suggérant que l'environnement n'est pas une priorité.**"
   ]
  },
  {
   "cell_type": "code",
   "execution_count": null,
   "metadata": {
    "id": "sgZhd7J3dQJZ"
   },
   "outputs": [],
   "source": [
    "#Eviter de tourner le code suivant qui prend plusieurs heures, le résultat est mis en csv juste après\n",
    "var_factice=0\n"
   ]
  },
  {
   "cell_type": "code",
   "execution_count": null,
   "metadata": {
    "id": "A-a_oOVh6-yp"
   },
   "outputs": [],
   "source": [
    "if var_factice==1:\n",
    "\n",
    "  # Connecter Google Drive\n",
    "  drive.mount('/content/drive')\n",
    "\n",
    "  # Définir le dossier où sauvegarder les fichiers dans Google Drive\n",
    "  checkpoint_folder = \"/content/drive/MyDrive/Checkpoints/\"\n",
    "  !mkdir -p $checkpoint_folder  # Créer le dossier s'il n'existe pas\n",
    "\n",
    "  # Initialisation des variables\n",
    "  final_labels = np.zeros(2730, dtype=str)\n",
    "  confidence_labels = np.zeros(2730, dtype=float)\n",
    "  labels = np.zeros(2730, dtype=int)\n",
    "\n",
    "  checkpoint_interval = 100  # Sauvegarde tous les 100 itérations\n",
    "\n",
    "  for i in range(2730):\n",
    "      print(f\"Processing {i+1}/{2730}\")\n",
    "      text = speeches_contents[i]\n",
    "      chunks = text.split(\".\")\n",
    "\n",
    "      results = []\n",
    "      for chunk in chunks:\n",
    "          if chunk.strip():\n",
    "              result = nlp(chunk.strip())  # Appel à votre modèle NLP\n",
    "              results.append(result)\n",
    "\n",
    "      if results:\n",
    "          labels_list = [result[0]['label'] for result in results]\n",
    "          final_label = max(set(labels_list), key=labels_list.count)\n",
    "          final_labels[i] = final_label\n",
    "          confidence = np.mean([result[0]['score'] for result in results])\n",
    "          confidence_labels[i] = confidence\n",
    "      else:\n",
    "          final_labels[i] = \"UNKNOWN\"\n",
    "          confidence_labels[i] = 0.0\n",
    "\n",
    "      labels[i] = i\n",
    "\n",
    "      # Sauvegarde périodique\n",
    "      if (i + 1) % checkpoint_interval == 0 or i == 2729:  # Tous les 100 itérations ou à la fin\n",
    "          df = pd.DataFrame({\n",
    "              \"ID\": labels[:i + 1],\n",
    "              \"Final Label\": final_labels[:i + 1],\n",
    "              \"Confidence\": confidence_labels[:i + 1]\n",
    "          })\n",
    "          partial_file = f\"{checkpoint_folder}/results_checkpoint_{i+1}.csv\"\n",
    "          df.to_csv(partial_file, index=False)\n",
    "          print(f\"Checkpoint saved to Google Drive: {partial_file}\")\n"
   ]
  },
  {
   "cell_type": "markdown",
   "metadata": {
    "id": "w9kR5s0aoP_2"
   },
   "source": [
    "#III-Statistiques descriptives des résultats de la catégorisation"
   ]
  },
  {
   "cell_type": "code",
   "execution_count": 174,
   "metadata": {
    "id": "R_dKBK7BB_a4"
   },
   "outputs": [],
   "source": [
    "speech_categ=pd.read_csv('speeches_categorized.csv',sep='\\t')"
   ]
  },
  {
   "cell_type": "code",
   "execution_count": 175,
   "metadata": {},
   "outputs": [
    {
     "data": {
      "text/html": [
       "<div>\n",
       "<style scoped>\n",
       "    .dataframe tbody tr th:only-of-type {\n",
       "        vertical-align: middle;\n",
       "    }\n",
       "\n",
       "    .dataframe tbody tr th {\n",
       "        vertical-align: top;\n",
       "    }\n",
       "\n",
       "    .dataframe thead th {\n",
       "        text-align: right;\n",
       "    }\n",
       "</style>\n",
       "<table border=\"1\" class=\"dataframe\">\n",
       "  <thead>\n",
       "    <tr style=\"text-align: right;\">\n",
       "      <th></th>\n",
       "      <th>ID</th>\n",
       "      <th>Final Label</th>\n",
       "      <th>Confidence</th>\n",
       "    </tr>\n",
       "  </thead>\n",
       "  <tbody>\n",
       "    <tr>\n",
       "      <th>0</th>\n",
       "      <td>0</td>\n",
       "      <td>S</td>\n",
       "      <td>0.797270</td>\n",
       "    </tr>\n",
       "    <tr>\n",
       "      <th>1</th>\n",
       "      <td>1</td>\n",
       "      <td>N</td>\n",
       "      <td>0.827785</td>\n",
       "    </tr>\n",
       "    <tr>\n",
       "      <th>2</th>\n",
       "      <td>2</td>\n",
       "      <td>N</td>\n",
       "      <td>0.877081</td>\n",
       "    </tr>\n",
       "    <tr>\n",
       "      <th>3</th>\n",
       "      <td>3</td>\n",
       "      <td>N</td>\n",
       "      <td>0.810546</td>\n",
       "    </tr>\n",
       "    <tr>\n",
       "      <th>4</th>\n",
       "      <td>4</td>\n",
       "      <td>S</td>\n",
       "      <td>0.829582</td>\n",
       "    </tr>\n",
       "    <tr>\n",
       "      <th>...</th>\n",
       "      <td>...</td>\n",
       "      <td>...</td>\n",
       "      <td>...</td>\n",
       "    </tr>\n",
       "    <tr>\n",
       "      <th>2725</th>\n",
       "      <td>2725</td>\n",
       "      <td>N</td>\n",
       "      <td>0.776906</td>\n",
       "    </tr>\n",
       "    <tr>\n",
       "      <th>2726</th>\n",
       "      <td>2726</td>\n",
       "      <td>N</td>\n",
       "      <td>0.812642</td>\n",
       "    </tr>\n",
       "    <tr>\n",
       "      <th>2727</th>\n",
       "      <td>2727</td>\n",
       "      <td>N</td>\n",
       "      <td>0.879239</td>\n",
       "    </tr>\n",
       "    <tr>\n",
       "      <th>2728</th>\n",
       "      <td>2728</td>\n",
       "      <td>N</td>\n",
       "      <td>0.846478</td>\n",
       "    </tr>\n",
       "    <tr>\n",
       "      <th>2729</th>\n",
       "      <td>2729</td>\n",
       "      <td>N</td>\n",
       "      <td>0.842759</td>\n",
       "    </tr>\n",
       "  </tbody>\n",
       "</table>\n",
       "<p>2730 rows × 3 columns</p>\n",
       "</div>"
      ],
      "text/plain": [
       "        ID Final Label  Confidence\n",
       "0        0           S    0.797270\n",
       "1        1           N    0.827785\n",
       "2        2           N    0.877081\n",
       "3        3           N    0.810546\n",
       "4        4           S    0.829582\n",
       "...    ...         ...         ...\n",
       "2725  2725           N    0.776906\n",
       "2726  2726           N    0.812642\n",
       "2727  2727           N    0.879239\n",
       "2728  2728           N    0.846478\n",
       "2729  2729           N    0.842759\n",
       "\n",
       "[2730 rows x 3 columns]"
      ]
     },
     "execution_count": 175,
     "metadata": {},
     "output_type": "execute_result"
    }
   ],
   "source": [
    "speech_categ"
   ]
  },
  {
   "cell_type": "code",
   "execution_count": 129,
   "metadata": {
    "colab": {
     "base_uri": "https://localhost:8080/",
     "height": 176
    },
    "id": "f5oRsdk3gkF3",
    "outputId": "94287c83-4e52-4f24-ab48-efb9028e117a"
   },
   "outputs": [
    {
     "data": {
      "text/plain": [
       "ID             0\n",
       "Final Label    0\n",
       "Confidence     0\n",
       "dtype: int64"
      ]
     },
     "execution_count": 129,
     "metadata": {},
     "output_type": "execute_result"
    }
   ],
   "source": [
    "speech_categ.isna().sum()"
   ]
  },
  {
   "cell_type": "code",
   "execution_count": 176,
   "metadata": {
    "colab": {
     "base_uri": "https://localhost:8080/",
     "height": 269
    },
    "id": "qzclkB_Fprdv",
    "outputId": "bf5bf338-8e21-483a-f79d-5f5d024c9034"
   },
   "outputs": [
    {
     "data": {
      "text/plain": [
       "Final Label\n",
       "N    1892\n",
       "S     779\n",
       "G      31\n",
       "E      27\n",
       "U       1\n",
       "Name: count, dtype: int64"
      ]
     },
     "execution_count": 176,
     "metadata": {},
     "output_type": "execute_result"
    }
   ],
   "source": [
    "speech_categ['Final Label'].value_counts()"
   ]
  },
  {
   "cell_type": "code",
   "execution_count": 177,
   "metadata": {
    "id": "9-hoY1LreG6V"
   },
   "outputs": [],
   "source": [
    "speech_categ=speech_categ.drop(speech_categ[speech_categ['Final Label']=='U'].index)"
   ]
  },
  {
   "cell_type": "code",
   "execution_count": 186,
   "metadata": {},
   "outputs": [],
   "source": [
    "speeches_labelized = speeches.join(speech_categ,how='left')"
   ]
  },
  {
   "cell_type": "code",
   "execution_count": 187,
   "metadata": {},
   "outputs": [
    {
     "data": {
      "text/html": [
       "<div>\n",
       "<style scoped>\n",
       "    .dataframe tbody tr th:only-of-type {\n",
       "        vertical-align: middle;\n",
       "    }\n",
       "\n",
       "    .dataframe tbody tr th {\n",
       "        vertical-align: top;\n",
       "    }\n",
       "\n",
       "    .dataframe thead th {\n",
       "        text-align: right;\n",
       "    }\n",
       "</style>\n",
       "<table border=\"1\" class=\"dataframe\">\n",
       "  <thead>\n",
       "    <tr style=\"text-align: right;\">\n",
       "      <th></th>\n",
       "      <th>date</th>\n",
       "      <th>speakers</th>\n",
       "      <th>title</th>\n",
       "      <th>subtitle</th>\n",
       "      <th>contents</th>\n",
       "      <th>ID</th>\n",
       "      <th>Final Label</th>\n",
       "      <th>Confidence</th>\n",
       "    </tr>\n",
       "  </thead>\n",
       "  <tbody>\n",
       "    <tr>\n",
       "      <th>0</th>\n",
       "      <td>2024-10-28</td>\n",
       "      <td>Frank Elderson</td>\n",
       "      <td>Transcript of video recording for Finance and ...</td>\n",
       "      <td>Contribution by Frank Elderson, Member of the ...</td>\n",
       "      <td>SPEECH  Transcript of video recording for Fi...</td>\n",
       "      <td>0.0</td>\n",
       "      <td>S</td>\n",
       "      <td>0.797270</td>\n",
       "    </tr>\n",
       "    <tr>\n",
       "      <th>1</th>\n",
       "      <td>2024-10-28</td>\n",
       "      <td>Luis de Guindos</td>\n",
       "      <td>Monetary policy and financial stability in the...</td>\n",
       "      <td>Introductory remarks by Luis de Guindos, Vice-...</td>\n",
       "      <td>SPEECH  Monetary policy and financial stabil...</td>\n",
       "      <td>1.0</td>\n",
       "      <td>N</td>\n",
       "      <td>0.827785</td>\n",
       "    </tr>\n",
       "    <tr>\n",
       "      <th>2</th>\n",
       "      <td>2024-10-25</td>\n",
       "      <td>Christine Lagarde</td>\n",
       "      <td>IMFC Statement</td>\n",
       "      <td>Statement by Christine Lagarde, President of t...</td>\n",
       "      <td>SPEECH  IMFC Statement    Statement by Chris...</td>\n",
       "      <td>2.0</td>\n",
       "      <td>N</td>\n",
       "      <td>0.877081</td>\n",
       "    </tr>\n",
       "    <tr>\n",
       "      <th>3</th>\n",
       "      <td>2024-10-24</td>\n",
       "      <td>Philip R. Lane</td>\n",
       "      <td>Underlying inflation: an update</td>\n",
       "      <td>Speech by Philip R. Lane, Member of the Execut...</td>\n",
       "      <td>SPEECH  Underlying inflation: an update   Sp...</td>\n",
       "      <td>3.0</td>\n",
       "      <td>N</td>\n",
       "      <td>0.810546</td>\n",
       "    </tr>\n",
       "    <tr>\n",
       "      <th>4</th>\n",
       "      <td>2024-10-16</td>\n",
       "      <td>Christine Lagarde</td>\n",
       "      <td>Lessons from Ljubljana in uncertain times</td>\n",
       "      <td>Speech by Christine Lagarde, President of the ...</td>\n",
       "      <td>SPEECH  Lessons from Ljubljana in uncertain ...</td>\n",
       "      <td>4.0</td>\n",
       "      <td>S</td>\n",
       "      <td>0.829582</td>\n",
       "    </tr>\n",
       "    <tr>\n",
       "      <th>...</th>\n",
       "      <td>...</td>\n",
       "      <td>...</td>\n",
       "      <td>...</td>\n",
       "      <td>...</td>\n",
       "      <td>...</td>\n",
       "      <td>...</td>\n",
       "      <td>...</td>\n",
       "      <td>...</td>\n",
       "    </tr>\n",
       "    <tr>\n",
       "      <th>2725</th>\n",
       "      <td>1997-05-13</td>\n",
       "      <td>Alexandre Lamfalussy</td>\n",
       "      <td>The European Central Bank: independent and acc...</td>\n",
       "      <td>Keynote speech delivered by Alexandre Lamfalus...</td>\n",
       "      <td>The European Central Bank: independent and a...</td>\n",
       "      <td>2725.0</td>\n",
       "      <td>N</td>\n",
       "      <td>0.776906</td>\n",
       "    </tr>\n",
       "    <tr>\n",
       "      <th>2726</th>\n",
       "      <td>1997-04-30</td>\n",
       "      <td>Alexandre Lamfalussy</td>\n",
       "      <td>The operation of monetary policy in stage thre...</td>\n",
       "      <td>Address by Alexandre Lamfalussy, President of ...</td>\n",
       "      <td>The operation of monetary policy in stage th...</td>\n",
       "      <td>2726.0</td>\n",
       "      <td>N</td>\n",
       "      <td>0.812642</td>\n",
       "    </tr>\n",
       "    <tr>\n",
       "      <th>2727</th>\n",
       "      <td>1997-04-22</td>\n",
       "      <td>Alexandre Lamfalussy</td>\n",
       "      <td>Convergence and the role of the European Centr...</td>\n",
       "      <td>Remarks by Alexandre Lamfalussy, President of ...</td>\n",
       "      <td>Convergence and the role of the European Cen...</td>\n",
       "      <td>2727.0</td>\n",
       "      <td>N</td>\n",
       "      <td>0.879239</td>\n",
       "    </tr>\n",
       "    <tr>\n",
       "      <th>2728</th>\n",
       "      <td>1997-03-10</td>\n",
       "      <td>Alexandre Lamfalussy</td>\n",
       "      <td>Securing the benefits of EMU</td>\n",
       "      <td>Address by Alexandre Lamfalussy, President of ...</td>\n",
       "      <td>Securing the benefits of EMU   Address by Al...</td>\n",
       "      <td>2728.0</td>\n",
       "      <td>N</td>\n",
       "      <td>0.846478</td>\n",
       "    </tr>\n",
       "    <tr>\n",
       "      <th>2729</th>\n",
       "      <td>1997-02-07</td>\n",
       "      <td>Alexandre Lamfalussy</td>\n",
       "      <td>Conference organised by the Hungarian Banking ...</td>\n",
       "      <td>Address by Alexandre Lamfalussy, President of ...</td>\n",
       "      <td>Conference organised by the Hungarian Bankin...</td>\n",
       "      <td>2729.0</td>\n",
       "      <td>N</td>\n",
       "      <td>0.842759</td>\n",
       "    </tr>\n",
       "  </tbody>\n",
       "</table>\n",
       "<p>2730 rows × 8 columns</p>\n",
       "</div>"
      ],
      "text/plain": [
       "            date              speakers  \\\n",
       "0     2024-10-28        Frank Elderson   \n",
       "1     2024-10-28       Luis de Guindos   \n",
       "2     2024-10-25     Christine Lagarde   \n",
       "3     2024-10-24        Philip R. Lane   \n",
       "4     2024-10-16     Christine Lagarde   \n",
       "...          ...                   ...   \n",
       "2725  1997-05-13  Alexandre Lamfalussy   \n",
       "2726  1997-04-30  Alexandre Lamfalussy   \n",
       "2727  1997-04-22  Alexandre Lamfalussy   \n",
       "2728  1997-03-10  Alexandre Lamfalussy   \n",
       "2729  1997-02-07  Alexandre Lamfalussy   \n",
       "\n",
       "                                                  title  \\\n",
       "0     Transcript of video recording for Finance and ...   \n",
       "1     Monetary policy and financial stability in the...   \n",
       "2                                       IMFC Statement    \n",
       "3                       Underlying inflation: an update   \n",
       "4             Lessons from Ljubljana in uncertain times   \n",
       "...                                                 ...   \n",
       "2725  The European Central Bank: independent and acc...   \n",
       "2726  The operation of monetary policy in stage thre...   \n",
       "2727  Convergence and the role of the European Centr...   \n",
       "2728                       Securing the benefits of EMU   \n",
       "2729  Conference organised by the Hungarian Banking ...   \n",
       "\n",
       "                                               subtitle  \\\n",
       "0     Contribution by Frank Elderson, Member of the ...   \n",
       "1     Introductory remarks by Luis de Guindos, Vice-...   \n",
       "2     Statement by Christine Lagarde, President of t...   \n",
       "3     Speech by Philip R. Lane, Member of the Execut...   \n",
       "4     Speech by Christine Lagarde, President of the ...   \n",
       "...                                                 ...   \n",
       "2725  Keynote speech delivered by Alexandre Lamfalus...   \n",
       "2726  Address by Alexandre Lamfalussy, President of ...   \n",
       "2727  Remarks by Alexandre Lamfalussy, President of ...   \n",
       "2728  Address by Alexandre Lamfalussy, President of ...   \n",
       "2729  Address by Alexandre Lamfalussy, President of ...   \n",
       "\n",
       "                                               contents      ID Final Label  \\\n",
       "0       SPEECH  Transcript of video recording for Fi...     0.0           S   \n",
       "1       SPEECH  Monetary policy and financial stabil...     1.0           N   \n",
       "2       SPEECH  IMFC Statement    Statement by Chris...     2.0           N   \n",
       "3       SPEECH  Underlying inflation: an update   Sp...     3.0           N   \n",
       "4       SPEECH  Lessons from Ljubljana in uncertain ...     4.0           S   \n",
       "...                                                 ...     ...         ...   \n",
       "2725    The European Central Bank: independent and a...  2725.0           N   \n",
       "2726    The operation of monetary policy in stage th...  2726.0           N   \n",
       "2727    Convergence and the role of the European Cen...  2727.0           N   \n",
       "2728    Securing the benefits of EMU   Address by Al...  2728.0           N   \n",
       "2729    Conference organised by the Hungarian Bankin...  2729.0           N   \n",
       "\n",
       "      Confidence  \n",
       "0       0.797270  \n",
       "1       0.827785  \n",
       "2       0.877081  \n",
       "3       0.810546  \n",
       "4       0.829582  \n",
       "...          ...  \n",
       "2725    0.776906  \n",
       "2726    0.812642  \n",
       "2727    0.879239  \n",
       "2728    0.846478  \n",
       "2729    0.842759  \n",
       "\n",
       "[2730 rows x 8 columns]"
      ]
     },
     "execution_count": 187,
     "metadata": {},
     "output_type": "execute_result"
    }
   ],
   "source": [
    "speeches_labelized"
   ]
  },
  {
   "cell_type": "markdown",
   "metadata": {},
   "source": [
    "# Sentiment-Topic Correlation Analysis\n",
    "\n",
    "In this step, we aim to explore the relationship between sentiment and topic labels (Environment, Governance, Social, None) within the dataset. By combining sentiment analysis with topic classification, we can identify whether specific topics are discussed in a more positive, negative, or neutral manner. We will use VADER (Valence Aware Dictionary and sEntiment Reasoner) sentiment analysis tool from NLTK (Natural Language Toolkit) and TextBlob, in order to make a comparison. We are interested not necessarily in comparing the score, but the order. (For instance, if the two models consider Environment speeches more positive than Social speeches.)\n"
   ]
  },
  {
   "cell_type": "code",
   "execution_count": null,
   "metadata": {},
   "outputs": [],
   "source": [
    "from nltk.sentiment.vader import SentimentIntensityAnalyzer\n",
    "nltk.download('vader_lexicon')\n",
    "from tqdm import tqdm\n",
    "from textblob import TextBlob"
   ]
  },
  {
   "cell_type": "code",
   "execution_count": 191,
   "metadata": {},
   "outputs": [],
   "source": [
    "def get_sentiment(text):\n",
    "    blob = TextBlob(text)\n",
    "    return blob.sentiment.polarity"
   ]
  },
  {
   "cell_type": "code",
   "execution_count": 192,
   "metadata": {},
   "outputs": [
    {
     "name": "stderr",
     "output_type": "stream",
     "text": [
      "100%|██████████| 2730/2730 [00:40<00:00, 68.05it/s] \n"
     ]
    }
   ],
   "source": [
    "tqdm.pandas() \n",
    "speeches_labelized['Sentiment_blob'] = speeches_labelized['contents'].progress_apply(get_sentiment)"
   ]
  },
  {
   "cell_type": "code",
   "execution_count": 195,
   "metadata": {},
   "outputs": [
    {
     "name": "stderr",
     "output_type": "stream",
     "text": [
      "100%|██████████| 2730/2730 [06:30<00:00,  6.99it/s]\n"
     ]
    }
   ],
   "source": [
    "analyzer = SentimentIntensityAnalyzer()\n",
    "tqdm.pandas()  # Enable tqdm progress bar for pandas apply\n",
    "# Compound score ranges from -1 to 1.\n",
    "speeches_labelized['Sentiment_nltk'] = speeches_labelized['contents'].progress_apply(lambda x: analyzer.polarity_scores(x)['compound']) "
   ]
  },
  {
   "cell_type": "code",
   "execution_count": null,
   "metadata": {},
   "outputs": [],
   "source": [
    "# compute the average sentiment for speeches with a specific label\n",
    "grouped_sentiment_blob = speeches_labelized.groupby('Final Label')['Sentiment_blob'].mean()\n",
    "grouped_sentiment_nltk = speeches_labelized.groupby('Final Label')['Sentiment_nltk'].mean()"
   ]
  },
  {
   "cell_type": "code",
   "execution_count": 215,
   "metadata": {},
   "outputs": [
    {
     "data": {
      "image/png": "[encoded data removed]",
      "text/plain": [
       "<Figure size 1000x500 with 2 Axes>"
      ]
     },
     "metadata": {},
     "output_type": "display_data"
    }
   ],
   "source": [
    "fig, axes = plt.subplots(1, 2, figsize=(10, 5))\n",
    "\n",
    "\n",
    "sns.barplot(x=grouped_sentiment_blob.index, y=grouped_sentiment_blob.values, ax=axes[0])\n",
    "axes[0].set_title('Average Sentiment by TextBlob')\n",
    "axes[0].set_xlabel('Type of speech')\n",
    "axes[0].set_ylabel('Average Sentiment')\n",
    "\n",
    "# Plot the second barplot on the second axis\n",
    "sns.barplot(x=grouped_sentiment_nltk.index, y=grouped_sentiment_nltk.values, ax=axes[1])\n",
    "axes[1].set_title('Average Sentiment by NLTK')\n",
    "axes[1].set_xlabel('Type of speech')\n",
    "axes[1].set_ylabel('Average Sentiment')\n",
    "\n",
    "# Adjust layout to prevent overlapping\n",
    "plt.tight_layout()\n",
    "\n",
    "# Show the plot\n",
    "plt.show()"
   ]
  },
  {
   "cell_type": "markdown",
   "metadata": {},
   "source": [
    "We observe that the environment-related speeches have a consistent more negative tone that the others. In order to understand better why, we look at the topics for each type of speech."
   ]
  },
  {
   "cell_type": "markdown",
   "metadata": {},
   "source": [
    "# Topics of speeches\n",
    "In this section, we will extract the most important features from the speeches using TF-IDF. For green speeches, we will use bigrams, as suggested in the paper by Martin Feldkircher & Viktoriya Teliha (2024), \"Speeches in the Green: The Political Discourse of Green Central Banking,\" CAMA Working Papers 2024-03, as bigrams appear to be more appropriate for green speeches."
   ]
  },
  {
   "cell_type": "code",
   "execution_count": 220,
   "metadata": {
    "colab": {
     "base_uri": "https://localhost:8080/",
     "height": 1000
    },
    "id": "M8hv0EaqbOXU",
    "outputId": "79a1235a-f6dc-4d89-b56b-32e33fd32f9e"
   },
   "outputs": [],
   "source": [
    "vectorizer = TfidfVectorizer(\n",
    " stop_words=\"english\",\n",
    " min_df=5,\n",
    " max_df=0.8,\n",
    " ngram_range=(2,2),\n",
    " token_pattern=r\"\\b[a-zA-Z]{3,}\\b\",\n",
    " )"
   ]
  },
  {
   "cell_type": "code",
   "execution_count": null,
   "metadata": {},
   "outputs": [],
   "source": [
    "def extract_features(speech_type):\n",
    "    \"\"\"\n",
    "    This function extracts the most important features (TF-IDF scores) from the speeches of a specific type, \n",
    "    calculates the average TF-IDF score for each feature, and returns them sorted in descending order.\n",
    "\n",
    "    Parameters:\n",
    "    -----------\n",
    "    speech_type : str\n",
    "        The label/category of the speeches to analyze (e.g., 'Green', 'Non-Green', etc.).\n",
    "\n",
    "    Returns:\n",
    "    --------\n",
    "    pandas.Series\n",
    "        A sorted series containing the average TF-IDF scores for each feature (word or n-gram), \n",
    "        where the index represents the feature name and the values represent the corresponding average TF-IDF score.\n",
    "    \"\"\"\n",
    "\n",
    "\n",
    "    df=speeches_labelized[speeches_labelized['Final Label']==speech_type]\n",
    "    df=df.reset_index(drop=True)\n",
    "    X_ = vectorizer.fit_transform(df['contents'].values)\n",
    "    cols = vectorizer.get_feature_names_out()\n",
    "    X_tfidf = pd.DataFrame(np.log1p(X_.toarray()), index=df.index, columns=cols)\n",
    "\n",
    "    return X_tfidf.mean().sort_values(ascending=False)"
   ]
  },
  {
   "cell_type": "markdown",
   "metadata": {},
   "source": [
    "We plot the 6 most important features for each type of speech."
   ]
  },
  {
   "cell_type": "code",
   "execution_count": 224,
   "metadata": {},
   "outputs": [
    {
     "data": {
      "image/png": "[encoded data removed]",
      "text/plain": [
       "<Figure size 1000x800 with 4 Axes>"
      ]
     },
     "metadata": {},
     "output_type": "display_data"
    }
   ],
   "source": [
    "\n",
    "\n",
    "speech_types = ['E', 'S', 'G', 'N']\n",
    "speech_dictionary={'E':'Environment', 'S':'Social', 'G':'Governance', 'N':'Other'}\n",
    "\n",
    "\n",
    "fig, axes = plt.subplots(2, 2, figsize=(10, 8))\n",
    "\n",
    "\n",
    "for i, speech_type in enumerate(speech_types):\n",
    "    \n",
    "    top_features = extract_features(speech_type).head(6)\n",
    "    \n",
    "    \n",
    "    ax = axes[i//2, i%2]\n",
    "    \n",
    "    \n",
    "    sns.barplot(x=top_features.index, y=top_features.values, ax=ax)\n",
    "    \n",
    "    \n",
    "    ax.set_title(f'Top Features for {speech_dictionary[speech_type]} Speeches')\n",
    "    ax.set_xlabel('Features')\n",
    "    ax.set_ylabel('Mean TF-IDF Score')\n",
    "    ax.set_xticks(range(len(top_features)))\n",
    "    ax.set_xticklabels(top_features.index, rotation=45, ha='right')\n",
    "\n",
    "plt.tight_layout()\n",
    "plt.show()\n"
   ]
  },
  {
   "cell_type": "markdown",
   "metadata": {},
   "source": [
    "We might explain why the environment speeches were classified as more negative by noting that some of their top features include terms related to risk, such as \"climate risk\" and \"environmental risk.\""
   ]
  },
  {
   "cell_type": "markdown",
   "metadata": {
    "id": "wFVbaXq7ker9"
   },
   "source": [
    "# Influence of Green Speeches on Green ETFs"
   ]
  },
  {
   "cell_type": "code",
   "execution_count": null,
   "metadata": {},
   "outputs": [],
   "source": [
    "green_speeches=speeches_labelized[speeches_labelized['Final Label']=='E']\n",
    "green_speeches=green_speeches.reset_index(drop=True)\n",
    "green_speeches"
   ]
  },
  {
   "cell_type": "code",
   "execution_count": 253,
   "metadata": {},
   "outputs": [
    {
     "name": "stderr",
     "output_type": "stream",
     "text": [
      "[*********************100%***********************]  1 of 1 completed\n",
      "[*********************100%***********************]  1 of 1 completed\n"
     ]
    }
   ],
   "source": [
    "green_etf=yf.download('ICLN')\n",
    "fossil_etf=yf.download('XOP',start='2008-06-25')# pour avoir la meme date de début que le green etf\n",
    "\n",
    "data_etfs = pd.DataFrame({\n",
    "    'ETF_green_Close': green_etf['Adj Close'].values.flatten(),  # Flatten to 1D\n",
    "    'ETF_fossil_Close': fossil_etf['Adj Close'].values.flatten(),\n",
    "    'ETF_green_Volume': green_etf['Volume'].values.flatten(),\n",
    "    'ETF_fossil_Volume': fossil_etf['Volume'].values.flatten(),\n",
    "}).dropna()\n",
    "data_etfs.index=fossil_etf.index\n",
    "data_etfs['Price Spread']=data_etfs['ETF_green_Close']- data_etfs['ETF_fossil_Close']\n",
    "data_etfs['Return ETF Green'] = data_etfs['ETF_green_Close'].pct_change()\n",
    "data_etfs['Return ETF Fossil'] = data_etfs['ETF_fossil_Close'].pct_change()\n",
    "data_etfs['Return Spread']=data_etfs['Return ETF Green']-data_etfs['Return ETF Fossil']\n",
    "data_etfs.index = data_etfs.index.date\n"
   ]
  },
  {
   "cell_type": "code",
   "execution_count": 101,
   "metadata": {
    "colab": {
     "base_uri": "https://localhost:8080/",
     "height": 447
    },
    "id": "aaon-BH8oLre",
    "outputId": "81fa1a0b-f8aa-4bd6-baca-c87a1aaea07f"
   },
   "outputs": [
    {
     "data": {
      "text/plain": [
       "[<matplotlib.lines.Line2D at 0x1cc8fad5090>]"
      ]
     },
     "execution_count": 101,
     "metadata": {},
     "output_type": "execute_result"
    },
    {
     "data": {
      "image/png": "[encoded data removed]",
      "text/plain": [
       "<Figure size 640x480 with 1 Axes>"
      ]
     },
     "metadata": {},
     "output_type": "display_data"
    }
   ],
   "source": [
    "plt.plot(data_etfs['Return ETF Green'])"
   ]
  },
  {
   "cell_type": "code",
   "execution_count": 254,
   "metadata": {},
   "outputs": [],
   "source": [
    "\n",
    "# Create a new column in data_etfs indicating if the date is in green_speeches\n",
    "# Convert 'date' column in green_speeches to datetime.date (just date part)\n",
    "green_speeches.loc[:, 'date'] = pd.to_datetime(green_speeches['date']).dt.date\n",
    "\n",
    "# Step 3: Create the 'Green Speech' column\n",
    "data_etfs['Green Speech'] = data_etfs.index.isin(green_speeches['date']).astype(int)"
   ]
  },
  {
   "cell_type": "code",
   "execution_count": 255,
   "metadata": {
    "id": "jxujrKtzkmXF"
   },
   "outputs": [],
   "source": [
    "# Normaliser les returns\n",
    "data_etfs['Return ETF Green']= data_etfs['Return ETF Green'].div(data_etfs['Return ETF Green'].ewm(252).std()).asfreq(\"B\")\n",
    "data_etfs['Return ETF Fossil']= data_etfs['Return ETF Fossil'].div(data_etfs['Return ETF Fossil'].ewm(252).std()).asfreq(\"B\")\n",
    "data_etfs['Return Spread']= data_etfs['Return Spread'].div(data_etfs['Return Spread'].ewm(252).std())"
   ]
  },
  {
   "cell_type": "code",
   "execution_count": 256,
   "metadata": {},
   "outputs": [],
   "source": [
    "# drop the first two rows with NaN\n",
    "data_etfs=data_etfs.iloc[2:]"
   ]
  },
  {
   "cell_type": "code",
   "execution_count": 257,
   "metadata": {},
   "outputs": [],
   "source": [
    "def plot_returns_comparaison(data,asset):\n",
    "    \"\"\"\n",
    "    Plots the distribution of returns for a given asset on green speech days vs normal days.\n",
    "\n",
    "    Parameters:\n",
    "    data (pd.DataFrame): The input DataFrame containing data on ETFs.\n",
    "    asset (str): The asset name ('ETF Green', 'ETF Fossil', 'Spread') for which the return comparison is to be plotted\"\"\"\n",
    "\n",
    "\n",
    "    bins = np.linspace(-10, 10, 50)\n",
    "\n",
    "    plt.hist(\n",
    "    data['Return '+asset][data['Green Speech'] == 1], bins, density=True, alpha=0.5,label=\"Green Speeches days\",)\n",
    "\n",
    "    plt.hist(\n",
    "    data['Return '+asset][data['Green Speech'] == 0], bins, density=True, alpha=0.5, label=\"Normal days\")\n",
    "    plt.legend(loc=\"upper right\")\n",
    "    plt.title(f'Returns of {asset}')\n",
    "    plt.show()"
   ]
  },
  {
   "cell_type": "code",
   "execution_count": 258,
   "metadata": {},
   "outputs": [
    {
     "data": {
      "image/png": "[encoded data removed]",
      "text/plain": [
       "<Figure size 640x480 with 1 Axes>"
      ]
     },
     "metadata": {},
     "output_type": "display_data"
    }
   ],
   "source": [
    "\n",
    "plot_returns_comparaison(data_etfs,'ETF Green')  \n",
    "\n"
   ]
  },
  {
   "cell_type": "markdown",
   "metadata": {},
   "source": [
    "# Cumulative returns from being long on the market"
   ]
  },
  {
   "cell_type": "code",
   "execution_count": 259,
   "metadata": {},
   "outputs": [],
   "source": [
    "\n",
    "data_post=data_etfs[green_speeches['date'][26]:]\n"
   ]
  },
  {
   "cell_type": "code",
   "execution_count": 263,
   "metadata": {},
   "outputs": [],
   "source": [
    "def create_df_green_returns(data, asset):\n",
    "\n",
    "    '''Generates a DataFrame with two columns: \"Green Speech\" and \"Not Green Speech\".\n",
    "    The index includes all dates starting from the first Green Speech on 17/04/2019.\n",
    "    The \"Green Speech\" column contains the return values (for a given asset) on dates corresponding to Green Speeches, with NaN elsewhere.\n",
    "    Conversely, the \"Not Green Speech\" column contains the return values on dates corresponding to non-Green Speeches, with NaN elsewhere.\n",
    "    Parameters:\n",
    "        data (pd.DataFrame): The input DataFrame containing data on ETFs.\n",
    "        asset (str): The asset for which to calculate returns. Must be one of \"ETF Green\", \"ETF Fossil\", \"Spread\".\n",
    "    \n",
    "    '''\n",
    "\n",
    "    valid_assets = [\"ETF Green\", \"ETF Fossil\", \"Spread\"]\n",
    "    if asset not in valid_assets:\n",
    "        raise ValueError(f\"Invalid asset. Please choose one of the following: {valid_assets}\")\n",
    "\n",
    "    df=pd.DataFrame()\n",
    "    df.index=data.index\n",
    "    df['Green Speech'] = data.apply(lambda x: x['Return '+asset] if x['Green Speech'] == 1 else None, axis=1)\n",
    "    df['Not Green Speech'] = data.apply(lambda x: x['Return '+asset] if x['Green Speech'] == 0 else None, axis=1)\n",
    "    \n",
    "    return df\n"
   ]
  },
  {
   "cell_type": "code",
   "execution_count": 264,
   "metadata": {},
   "outputs": [],
   "source": [
    "df=create_df_green_returns(data=data_post, asset='ETF Green')"
   ]
  },
  {
   "cell_type": "code",
   "execution_count": 265,
   "metadata": {},
   "outputs": [
    {
     "data": {
      "text/html": [
       "<div>\n",
       "<style scoped>\n",
       "    .dataframe tbody tr th:only-of-type {\n",
       "        vertical-align: middle;\n",
       "    }\n",
       "\n",
       "    .dataframe tbody tr th {\n",
       "        vertical-align: top;\n",
       "    }\n",
       "\n",
       "    .dataframe thead th {\n",
       "        text-align: right;\n",
       "    }\n",
       "</style>\n",
       "<table border=\"1\" class=\"dataframe\">\n",
       "  <thead>\n",
       "    <tr style=\"text-align: right;\">\n",
       "      <th></th>\n",
       "      <th>Green Speech</th>\n",
       "      <th>Not Green Speech</th>\n",
       "    </tr>\n",
       "  </thead>\n",
       "  <tbody>\n",
       "    <tr>\n",
       "      <th>2019-04-17</th>\n",
       "      <td>0.466168</td>\n",
       "      <td>NaN</td>\n",
       "    </tr>\n",
       "    <tr>\n",
       "      <th>2019-04-18</th>\n",
       "      <td>NaN</td>\n",
       "      <td>-0.278817</td>\n",
       "    </tr>\n",
       "    <tr>\n",
       "      <th>2019-04-22</th>\n",
       "      <td>NaN</td>\n",
       "      <td>0.000000</td>\n",
       "    </tr>\n",
       "    <tr>\n",
       "      <th>2019-04-23</th>\n",
       "      <td>NaN</td>\n",
       "      <td>0.841207</td>\n",
       "    </tr>\n",
       "    <tr>\n",
       "      <th>2019-04-24</th>\n",
       "      <td>NaN</td>\n",
       "      <td>-0.463872</td>\n",
       "    </tr>\n",
       "    <tr>\n",
       "      <th>...</th>\n",
       "      <td>...</td>\n",
       "      <td>...</td>\n",
       "    </tr>\n",
       "    <tr>\n",
       "      <th>2024-12-05</th>\n",
       "      <td>NaN</td>\n",
       "      <td>0.050382</td>\n",
       "    </tr>\n",
       "    <tr>\n",
       "      <th>2024-12-06</th>\n",
       "      <td>NaN</td>\n",
       "      <td>-0.252195</td>\n",
       "    </tr>\n",
       "    <tr>\n",
       "      <th>2024-12-09</th>\n",
       "      <td>NaN</td>\n",
       "      <td>1.214155</td>\n",
       "    </tr>\n",
       "    <tr>\n",
       "      <th>2024-12-10</th>\n",
       "      <td>NaN</td>\n",
       "      <td>-0.794372</td>\n",
       "    </tr>\n",
       "    <tr>\n",
       "      <th>2024-12-11</th>\n",
       "      <td>NaN</td>\n",
       "      <td>0.000000</td>\n",
       "    </tr>\n",
       "  </tbody>\n",
       "</table>\n",
       "<p>1424 rows × 2 columns</p>\n",
       "</div>"
      ],
      "text/plain": [
       "            Green Speech  Not Green Speech\n",
       "2019-04-17      0.466168               NaN\n",
       "2019-04-18           NaN         -0.278817\n",
       "2019-04-22           NaN          0.000000\n",
       "2019-04-23           NaN          0.841207\n",
       "2019-04-24           NaN         -0.463872\n",
       "...                  ...               ...\n",
       "2024-12-05           NaN          0.050382\n",
       "2024-12-06           NaN         -0.252195\n",
       "2024-12-09           NaN          1.214155\n",
       "2024-12-10           NaN         -0.794372\n",
       "2024-12-11           NaN          0.000000\n",
       "\n",
       "[1424 rows x 2 columns]"
      ]
     },
     "execution_count": 265,
     "metadata": {},
     "output_type": "execute_result"
    }
   ],
   "source": [
    "df"
   ]
  },
  {
   "cell_type": "code",
   "execution_count": 141,
   "metadata": {},
   "outputs": [],
   "source": [
    "def plot_cumulative_return(data, asset):\n",
    "    \n",
    "    df=create_df_green_returns(data=data, asset=asset)\n",
    "    line(\n",
    "    df\n",
    "    .fillna(0)\n",
    "    .assign(ALL=lambda x: x.sum(axis=1)),\n",
    "    cumsum=True,\n",
    "    legend_sharpe_ratio=False,\n",
    "    title=\"Cumulative return from being long the market for the asset: \"+asset ,\n",
    ")"
   ]
  },
  {
   "cell_type": "code",
   "execution_count": 146,
   "metadata": {},
   "outputs": [
    {
     "data": {
      "image/png": "[encoded data removed]",
      "text/plain": [
       "<Figure size 800x500 with 1 Axes>"
      ]
     },
     "metadata": {},
     "output_type": "display_data"
    }
   ],
   "source": [
    "plot_cumulative_return(data=data_post, asset='ETF Green')"
   ]
  },
  {
   "cell_type": "code",
   "execution_count": 266,
   "metadata": {},
   "outputs": [
    {
     "name": "stdout",
     "output_type": "stream",
     "text": [
      "╒══════════╤══════════════╕\n",
      "│ Metric   │        Value │\n",
      "╞══════════╪══════════════╡\n",
      "│ count    │ 1400         │\n",
      "├──────────┼──────────────┤\n",
      "│ mean     │    0.0170084 │\n",
      "├──────────┼──────────────┤\n",
      "│ std      │    1.06255   │\n",
      "├──────────┼──────────────┤\n",
      "│ min      │   -8.20922   │\n",
      "├──────────┼──────────────┤\n",
      "│ 25%      │   -0.541659  │\n",
      "├──────────┼──────────────┤\n",
      "│ 50%      │   -0.0234827 │\n",
      "├──────────┼──────────────┤\n",
      "│ 75%      │    0.59086   │\n",
      "├──────────┼──────────────┤\n",
      "│ max      │    5.36704   │\n",
      "╘══════════╧══════════════╛\n"
     ]
    }
   ],
   "source": [
    "# Get the descriptive statistics for 'Return ETF Green'\n",
    "description = data_post['Return ETF Green'][data_etfs['Green Speech'] == 0].describe()\n",
    "\n",
    "# Print summary in a formatted table\n",
    "print(tabulate(description.items(), headers=[\"Metric\", \"Value\"], tablefmt=\"fancy_grid\"))"
   ]
  },
  {
   "cell_type": "markdown",
   "metadata": {},
   "source": [
    "We notice that the average return is positive on days of Green Speeches. We want to investigate further if a Green Speech has a positive effect on the return in the following days."
   ]
  },
  {
   "cell_type": "markdown",
   "metadata": {},
   "source": [
    "# Abnormal returns around speech dates"
   ]
  },
  {
   "cell_type": "code",
   "execution_count": 61,
   "metadata": {},
   "outputs": [
    {
     "data": {
      "text/plain": [
       "Index([2019-04-17, 2019-10-17, 2019-11-21, 2020-07-17, 2020-09-28, 2021-01-25,\n",
       "       2021-04-29, 2021-06-14, 2021-06-16, 2021-09-23, 2021-09-24, 2021-10-12,\n",
       "       2021-10-19, 2021-11-04, 2022-11-16, 2022-12-01, 2023-03-27, 2023-04-21,\n",
       "       2023-05-05, 2023-09-05, 2024-03-27, 2024-04-12, 2024-06-07, 2024-10-04],\n",
       "      dtype='object')"
      ]
     },
     "execution_count": 61,
     "metadata": {},
     "output_type": "execute_result"
    }
   ],
   "source": [
    "green_speech_dates = data_etfs[data_etfs['Green Speech'] == 1].index\n",
    "green_speech_dates"
   ]
  },
  {
   "cell_type": "code",
   "execution_count": 85,
   "metadata": {},
   "outputs": [],
   "source": [
    "def compute_rolling_averages(data,window):\n",
    "    '''\n",
    "    Computes average historic returns over a specified window (measured in business days).\n",
    "    \n",
    "    Parameters:\n",
    "    - data (DataFrame): Input DataFrame containing ETF returns.\n",
    "    - window (int): The size of the rolling window for calculating averages.\n",
    "    \n",
    "    Returns:\n",
    "    - DataFrame: A new DataFrame with columns for rolling averages of green and fossil ETF returns,\n",
    "                 as well as the rolling average of the spread between the two.\n",
    "    '''\n",
    "    data=data.copy()\n",
    "    data['Average ETF Green'] = data['Return ETF Green'].rolling(window=window, min_periods=1).mean()\n",
    "    data['Average ETF Fossil'] = data['Return ETF Fossil'].rolling(window=window, min_periods=1).mean()\n",
    "    data['Average Spread'] = data['Return Spread'].rolling(window=window, min_periods=1).mean()\n",
    "    return data\n",
    "\n",
    "data_etfs_averages=compute_rolling_averages(data_etfs,window=20)\n"
   ]
  },
  {
   "cell_type": "code",
   "execution_count": 86,
   "metadata": {},
   "outputs": [],
   "source": [
    "def calculate_ar(data, event_date, b, asset):\n",
    "    \"\"\"\n",
    "    Calculate Abnormal Returns (AR) and Cumulative Abnormal Returns (CAR) for a given event window \n",
    "    in business days.\n",
    "\n",
    "    Parameters:\n",
    "    - data (DataFrame): Input DataFrame containing ETF returns and rolling averages.\n",
    "    - event_date (datetime): The event date from which the AR and CAR calculation begins.\n",
    "    - b (int): The number of business days to include in the event window.\n",
    "    - asset (str): Specifies the asset type ('Green', 'Fossil', or other asset names).\n",
    "\n",
    "    Returns:\n",
    "    - DataFrame: A DataFrame containing columns:\n",
    "        - 'Abnormal Return': The difference between the actual return and the expected return.\n",
    "        - 'Cumulative Abnormal Return': The cumulative sum of abnormal returns over the event window.\n",
    "    \"\"\"\n",
    "    # Define the start and end dates for the event window\n",
    "    start_date = event_date  # Start date is the event date\n",
    "    end_date = event_date + pd.offsets.BDay(b)  # End date is event_date plus b business days\n",
    "    \n",
    "    # Extract data for the specified event window\n",
    "    window_data = data[(data.index >= start_date) & (data.index <= end_date.date())].copy()\n",
    "    \n",
    "    # Compute Abnormal Returns (AR) based on the specified asset\n",
    "   \n",
    "    window_data['Abnormal Return'] = window_data['Return ' + asset] - window_data['Average ' + asset]\n",
    "    \n",
    "    # Calculate Cumulative Abnormal Returns (CAR)\n",
    "    window_data['Cumulative Abnormal Return'] = window_data['Abnormal Return'].cumsum()\n",
    "    \n",
    "    return window_data[['Abnormal Return', 'Cumulative Abnormal Return']]\n",
    "\n"
   ]
  },
  {
   "cell_type": "code",
   "execution_count": 87,
   "metadata": {},
   "outputs": [],
   "source": [
    "def abnormal_returns(data, event_window, asset):\n",
    "    \"\"\"\n",
    "    Compute Abnormal Returns (AR) and Cumulative Abnormal Returns (CAR) \n",
    "    for a specified event window around green speech dates.\n",
    "\n",
    "    Parameters:\n",
    "    - data (DataFrame): Input DataFrame containing ETF returns, rolling averages, \n",
    "      and a 'Green Speech' column indicating event dates.\n",
    "    - event_window (int): The number of business days forward from each event date to include in the window.\n",
    "    - asset (str): Specifies the asset type ('Green', 'Fossil', or other asset names).\n",
    "\n",
    "    Returns:\n",
    "    - DataFrame: A concatenated DataFrame containing AR and CAR for all green speech events \n",
    "      within the specified window, indexed by the relevant business dates.\n",
    "    \"\"\"\n",
    "    # Extract green speech dates\n",
    "    green_speech_dates = data[data['Green Speech'] == 1].index\n",
    "\n",
    "    # Initialize a list to store results for each event\n",
    "    car_results = []\n",
    "\n",
    "    # Calculate AR and CAR for each green speech date\n",
    "    for date in green_speech_dates:\n",
    "        ar_car_result = calculate_ar(data, date, event_window, asset)\n",
    "        car_results.append(ar_car_result)\n",
    "\n",
    "    # Combine results into a single DataFrame\n",
    "    car_df = pd.concat(car_results)\n",
    "\n",
    "    return car_df\n",
    "\n"
   ]
  },
  {
   "cell_type": "code",
   "execution_count": 101,
   "metadata": {},
   "outputs": [],
   "source": [
    "car_df=abnormal_returns(data=data_etfs_averages,event_window=5,asset='ETF Green')"
   ]
  },
  {
   "cell_type": "code",
   "execution_count": null,
   "metadata": {},
   "outputs": [],
   "source": [
    "def plot_abnormal_returns(data,event_window,asset,car):\n",
    "    \"\"\"\n",
    "    Plots the abnormal returns or cumulative abnormal returns of a specified asset around the event of a green speech.\n",
    "    \n",
    "    Parameters:\n",
    "    data (DataFrame): The dataset containing asset returns and other relevant information such as the date of green speeches.\n",
    "    event_window (int): The number of days around the green speech to analyze (e.g., 5 for a 5-day window).\n",
    "    asset (str): The asset to analyze (e.g., \"Green\" or \"Fossil\").\n",
    "    car (bool): A boolean that determines whether to plot \"Abnormal Returns\" (False) or \"Cumulative Abnormal Returns\" (True).\"\"\"\n",
    "\n",
    "    df=abnormal_returns(data=data,event_window=event_window,asset=asset)\n",
    "    if car==False:\n",
    "        plt.hist(df['Abnormal Return'], density=True)\n",
    "        plt.title(f'Abnormal Returns of the {asset} for the {event_window} days after a Green Speech')\n",
    "    if car==True:\n",
    "        plt.hist(df.iloc[::event_window]['Cumulative Abnormal Return'],density=True) # the cumulative abnormal return at the end of the event_windox\n",
    "        plt.title(f'Cumulative Abnormal Returns of the {asset} over a 5 days window after a Green Speech')\n",
    "    "
   ]
  },
  {
   "cell_type": "code",
   "execution_count": 116,
   "metadata": {},
   "outputs": [
    {
     "data": {
      "image/png": "[encoded data removed]",
      "text/plain": [
       "<Figure size 640x480 with 1 Axes>"
      ]
     },
     "metadata": {},
     "output_type": "display_data"
    }
   ],
   "source": [
    "plot_abnormal_returns(data_etfs_averages,event_window=5, asset='ETF Green',car=True)"
   ]
  },
  {
   "cell_type": "code",
   "execution_count": 80,
   "metadata": {},
   "outputs": [
    {
     "data": {
      "text/plain": [
       "count    141.000000\n",
       "mean       0.000703\n",
       "std        0.725572\n",
       "min       -1.737501\n",
       "25%       -0.460295\n",
       "50%       -0.073953\n",
       "75%        0.445223\n",
       "max        1.890360\n",
       "Name: Abnormal Return, dtype: float64"
      ]
     },
     "execution_count": 80,
     "metadata": {},
     "output_type": "execute_result"
    }
   ],
   "source": [
    "car_df['Abnormal Return'].describe()"
   ]
  },
  {
   "cell_type": "code",
   "execution_count": 33,
   "metadata": {},
   "outputs": [
    {
     "data": {
      "text/plain": [
       "count    141.000000\n",
       "mean      -0.031069\n",
       "std        0.836196\n",
       "min       -3.047612\n",
       "25%       -0.616000\n",
       "50%       -0.022666\n",
       "75%        0.453415\n",
       "max        2.087042\n",
       "Name: Abnormal Return, dtype: float64"
      ]
     },
     "execution_count": 33,
     "metadata": {},
     "output_type": "execute_result"
    }
   ],
   "source": [
    "car_df['Abnormal Return'].describe()"
   ]
  },
  {
   "cell_type": "code",
   "execution_count": 110,
   "metadata": {},
   "outputs": [
    {
     "data": {
      "text/plain": [
       "count    29.000000\n",
       "mean     -0.098011\n",
       "std       2.139334\n",
       "min      -4.848033\n",
       "25%      -1.280974\n",
       "50%      -0.022671\n",
       "75%       0.818985\n",
       "max       5.499743\n",
       "Name: Cumulative Abnormal Return, dtype: float64"
      ]
     },
     "execution_count": 110,
     "metadata": {},
     "output_type": "execute_result"
    }
   ],
   "source": [
    "car_df.iloc[::5]['Cumulative Abnormal Return'].describe()"
   ]
  },
  {
   "cell_type": "markdown",
   "metadata": {},
   "source": [
    "# Volume"
   ]
  },
  {
   "cell_type": "code",
   "execution_count": null,
   "metadata": {},
   "outputs": [],
   "source": []
  }
 ],
 "metadata": {
  "colab": {
   "provenance": [],
   "toc_visible": true
  },
  "kernelspec": {
   "display_name": "skfin-env",
   "language": "python",
   "name": "python3"
  },
  "language_info": {
   "codemirror_mode": {
    "name": "ipython",
    "version": 3
   },
   "file_extension": ".py",
   "mimetype": "text/x-python",
   "name": "python",
   "nbconvert_exporter": "python",
   "pygments_lexer": "ipython3",
   "version": "3.11.9"
  },
  "widgets": {
   "application/vnd.jupyter.widget-state+json": {
    "031ba1fe267b4a84a5b0c946b9805c5f": {
     "model_module": "@jupyter-widgets/base",
     "model_module_version": "1.2.0",
     "model_name": "LayoutModel",
     "state": {
      "_model_module": "@jupyter-widgets/base",
      "_model_module_version": "1.2.0",
      "_model_name": "LayoutModel",
      "_view_count": null,
      "_view_module": "@jupyter-widgets/base",
      "_view_module_version": "1.2.0",
      "_view_name": "LayoutView",
      "align_content": null,
      "align_items": null,
      "align_self": null,
      "border": null,
      "bottom": null,
      "display": null,
      "flex": null,
      "flex_flow": null,
      "grid_area": null,
      "grid_auto_columns": null,
      "grid_auto_flow": null,
      "grid_auto_rows": null,
      "grid_column": null,
      "grid_gap": null,
      "grid_row": null,
      "grid_template_areas": null,
      "grid_template_columns": null,
      "grid_template_rows": null,
      "height": null,
      "justify_content": null,
      "justify_items": null,
      "left": null,
      "margin": null,
      "max_height": null,
      "max_width": null,
      "min_height": null,
      "min_width": null,
      "object_fit": null,
      "object_position": null,
      "order": null,
      "overflow": null,
      "overflow_x": null,
      "overflow_y": null,
      "padding": null,
      "right": null,
      "top": null,
      "visibility": null,
      "width": null
     }
    },
    "0b37ba5288134d9a9761a0ea95e4b2f7": {
     "model_module": "@jupyter-widgets/controls",
     "model_module_version": "1.5.0",
     "model_name": "HTMLModel",
     "state": {
      "_dom_classes": [],
      "_model_module": "@jupyter-widgets/controls",
      "_model_module_version": "1.5.0",
      "_model_name": "HTMLModel",
      "_view_count": null,
      "_view_module": "@jupyter-widgets/controls",
      "_view_module_version": "1.5.0",
      "_view_name": "HTMLView",
      "description": "",
      "description_tooltip": null,
      "layout": "IPY_MODEL_031ba1fe267b4a84a5b0c946b9805c5f",
      "placeholder": "​",
      "style": "IPY_MODEL_3d318048938c45f294881e0e2517faf1",
      "value": "vocab.txt: 100%"
     }
    },
    "1317f6fb613a4b11b0525049b99c8302": {
     "model_module": "@jupyter-widgets/controls",
     "model_module_version": "1.5.0",
     "model_name": "ProgressStyleModel",
     "state": {
      "_model_module": "@jupyter-widgets/controls",
      "_model_module_version": "1.5.0",
      "_model_name": "ProgressStyleModel",
      "_view_count": null,
      "_view_module": "@jupyter-widgets/base",
      "_view_module_version": "1.2.0",
      "_view_name": "StyleView",
      "bar_color": null,
      "description_width": ""
     }
    },
    "14a94abecf5e41a7bd46d992fe33d328": {
     "model_module": "@jupyter-widgets/controls",
     "model_module_version": "1.5.0",
     "model_name": "ProgressStyleModel",
     "state": {
      "_model_module": "@jupyter-widgets/controls",
      "_model_module_version": "1.5.0",
      "_model_name": "ProgressStyleModel",
      "_view_count": null,
      "_view_module": "@jupyter-widgets/base",
      "_view_module_version": "1.2.0",
      "_view_name": "StyleView",
      "bar_color": null,
      "description_width": ""
     }
    },
    "19ed961366214494b3751eb6c1b8cfab": {
     "model_module": "@jupyter-widgets/base",
     "model_module_version": "1.2.0",
     "model_name": "LayoutModel",
     "state": {
      "_model_module": "@jupyter-widgets/base",
      "_model_module_version": "1.2.0",
      "_model_name": "LayoutModel",
      "_view_count": null,
      "_view_module": "@jupyter-widgets/base",
      "_view_module_version": "1.2.0",
      "_view_name": "LayoutView",
      "align_content": null,
      "align_items": null,
      "align_self": null,
      "border": null,
      "bottom": null,
      "display": null,
      "flex": null,
      "flex_flow": null,
      "grid_area": null,
      "grid_auto_columns": null,
      "grid_auto_flow": null,
      "grid_auto_rows": null,
      "grid_column": null,
      "grid_gap": null,
      "grid_row": null,
      "grid_template_areas": null,
      "grid_template_columns": null,
      "grid_template_rows": null,
      "height": null,
      "justify_content": null,
      "justify_items": null,
      "left": null,
      "margin": null,
      "max_height": null,
      "max_width": null,
      "min_height": null,
      "min_width": null,
      "object_fit": null,
      "object_position": null,
      "order": null,
      "overflow": null,
      "overflow_x": null,
      "overflow_y": null,
      "padding": null,
      "right": null,
      "top": null,
      "visibility": null,
      "width": null
     }
    },
    "1f5d7f3b14a1491f885de3787abfa1a5": {
     "model_module": "@jupyter-widgets/controls",
     "model_module_version": "1.5.0",
     "model_name": "FloatProgressModel",
     "state": {
      "_dom_classes": [],
      "_model_module": "@jupyter-widgets/controls",
      "_model_module_version": "1.5.0",
      "_model_name": "FloatProgressModel",
      "_view_count": null,
      "_view_module": "@jupyter-widgets/controls",
      "_view_module_version": "1.5.0",
      "_view_name": "ProgressView",
      "bar_style": "success",
      "description": "",
      "description_tooltip": null,
      "layout": "IPY_MODEL_baf1bbc752124ec2bef19c182a4c5d17",
      "max": 226122,
      "min": 0,
      "orientation": "horizontal",
      "style": "IPY_MODEL_14a94abecf5e41a7bd46d992fe33d328",
      "value": 226122
     }
    },
    "27d2eafc216c407dbb8501249cb8b23c": {
     "model_module": "@jupyter-widgets/base",
     "model_module_version": "1.2.0",
     "model_name": "LayoutModel",
     "state": {
      "_model_module": "@jupyter-widgets/base",
      "_model_module_version": "1.2.0",
      "_model_name": "LayoutModel",
      "_view_count": null,
      "_view_module": "@jupyter-widgets/base",
      "_view_module_version": "1.2.0",
      "_view_name": "LayoutView",
      "align_content": null,
      "align_items": null,
      "align_self": null,
      "border": null,
      "bottom": null,
      "display": null,
      "flex": null,
      "flex_flow": null,
      "grid_area": null,
      "grid_auto_columns": null,
      "grid_auto_flow": null,
      "grid_auto_rows": null,
      "grid_column": null,
      "grid_gap": null,
      "grid_row": null,
      "grid_template_areas": null,
      "grid_template_columns": null,
      "grid_template_rows": null,
      "height": null,
      "justify_content": null,
      "justify_items": null,
      "left": null,
      "margin": null,
      "max_height": null,
      "max_width": null,
      "min_height": null,
      "min_width": null,
      "object_fit": null,
      "object_position": null,
      "order": null,
      "overflow": null,
      "overflow_x": null,
      "overflow_y": null,
      "padding": null,
      "right": null,
      "top": null,
      "visibility": null,
      "width": null
     }
    },
    "3469cf2cf70b4ded81ead71ea05cb74e": {
     "model_module": "@jupyter-widgets/controls",
     "model_module_version": "1.5.0",
     "model_name": "HBoxModel",
     "state": {
      "_dom_classes": [],
      "_model_module": "@jupyter-widgets/controls",
      "_model_module_version": "1.5.0",
      "_model_name": "HBoxModel",
      "_view_count": null,
      "_view_module": "@jupyter-widgets/controls",
      "_view_module_version": "1.5.0",
      "_view_name": "HBoxView",
      "box_style": "",
      "children": [
       "IPY_MODEL_0b37ba5288134d9a9761a0ea95e4b2f7",
       "IPY_MODEL_1f5d7f3b14a1491f885de3787abfa1a5",
       "IPY_MODEL_9245bb3bb24b4fa8acca2117c4732276"
      ],
      "layout": "IPY_MODEL_9ed58813325641629519a215b41ad66e"
     }
    },
    "3a927bb2e8254077a53233375e7d243b": {
     "model_module": "@jupyter-widgets/controls",
     "model_module_version": "1.5.0",
     "model_name": "HTMLModel",
     "state": {
      "_dom_classes": [],
      "_model_module": "@jupyter-widgets/controls",
      "_model_module_version": "1.5.0",
      "_model_name": "HTMLModel",
      "_view_count": null,
      "_view_module": "@jupyter-widgets/controls",
      "_view_module_version": "1.5.0",
      "_view_name": "HTMLView",
      "description": "",
      "description_tooltip": null,
      "layout": "IPY_MODEL_8c29a9b2db8d4cff9ec58ce7675abb7a",
      "placeholder": "​",
      "style": "IPY_MODEL_a6f05d29fec84bca9a064b6aad9baf95",
      "value": " 439M/439M [00:05&lt;00:00, 64.4MB/s]"
     }
    },
    "3d318048938c45f294881e0e2517faf1": {
     "model_module": "@jupyter-widgets/controls",
     "model_module_version": "1.5.0",
     "model_name": "DescriptionStyleModel",
     "state": {
      "_model_module": "@jupyter-widgets/controls",
      "_model_module_version": "1.5.0",
      "_model_name": "DescriptionStyleModel",
      "_view_count": null,
      "_view_module": "@jupyter-widgets/base",
      "_view_module_version": "1.2.0",
      "_view_name": "StyleView",
      "description_width": ""
     }
    },
    "3f626c97f4fe4475af343d35444ff197": {
     "model_module": "@jupyter-widgets/controls",
     "model_module_version": "1.5.0",
     "model_name": "HBoxModel",
     "state": {
      "_dom_classes": [],
      "_model_module": "@jupyter-widgets/controls",
      "_model_module_version": "1.5.0",
      "_model_name": "HBoxModel",
      "_view_count": null,
      "_view_module": "@jupyter-widgets/controls",
      "_view_module_version": "1.5.0",
      "_view_name": "HBoxView",
      "box_style": "",
      "children": [
       "IPY_MODEL_7ac17a75f38f4464ab5f2e95ebc015f1",
       "IPY_MODEL_6cf755ae07384437b283cee87d7a4ef7",
       "IPY_MODEL_3a927bb2e8254077a53233375e7d243b"
      ],
      "layout": "IPY_MODEL_a66c9b08338a4aa7a24bdd56653a529a"
     }
    },
    "42943baebb8d4a9c9487707c56560c65": {
     "model_module": "@jupyter-widgets/controls",
     "model_module_version": "1.5.0",
     "model_name": "DescriptionStyleModel",
     "state": {
      "_model_module": "@jupyter-widgets/controls",
      "_model_module_version": "1.5.0",
      "_model_name": "DescriptionStyleModel",
      "_view_count": null,
      "_view_module": "@jupyter-widgets/base",
      "_view_module_version": "1.2.0",
      "_view_name": "StyleView",
      "description_width": ""
     }
    },
    "44d7ae2c210245d198639765d930004b": {
     "model_module": "@jupyter-widgets/base",
     "model_module_version": "1.2.0",
     "model_name": "LayoutModel",
     "state": {
      "_model_module": "@jupyter-widgets/base",
      "_model_module_version": "1.2.0",
      "_model_name": "LayoutModel",
      "_view_count": null,
      "_view_module": "@jupyter-widgets/base",
      "_view_module_version": "1.2.0",
      "_view_name": "LayoutView",
      "align_content": null,
      "align_items": null,
      "align_self": null,
      "border": null,
      "bottom": null,
      "display": null,
      "flex": null,
      "flex_flow": null,
      "grid_area": null,
      "grid_auto_columns": null,
      "grid_auto_flow": null,
      "grid_auto_rows": null,
      "grid_column": null,
      "grid_gap": null,
      "grid_row": null,
      "grid_template_areas": null,
      "grid_template_columns": null,
      "grid_template_rows": null,
      "height": null,
      "justify_content": null,
      "justify_items": null,
      "left": null,
      "margin": null,
      "max_height": null,
      "max_width": null,
      "min_height": null,
      "min_width": null,
      "object_fit": null,
      "object_position": null,
      "order": null,
      "overflow": null,
      "overflow_x": null,
      "overflow_y": null,
      "padding": null,
      "right": null,
      "top": null,
      "visibility": null,
      "width": null
     }
    },
    "4a333ec745614a48a9de496bf36d2959": {
     "model_module": "@jupyter-widgets/controls",
     "model_module_version": "1.5.0",
     "model_name": "FloatProgressModel",
     "state": {
      "_dom_classes": [],
      "_model_module": "@jupyter-widgets/controls",
      "_model_module_version": "1.5.0",
      "_model_name": "FloatProgressModel",
      "_view_count": null,
      "_view_module": "@jupyter-widgets/controls",
      "_view_module_version": "1.5.0",
      "_view_name": "ProgressView",
      "bar_style": "success",
      "description": "",
      "description_tooltip": null,
      "layout": "IPY_MODEL_fdcf1a41059f42079f7a9beebaa28cac",
      "max": 781,
      "min": 0,
      "orientation": "horizontal",
      "style": "IPY_MODEL_e5d9668c7cb242189079c0d4f1bd47a0",
      "value": 781
     }
    },
    "5b45f2e2ef0446fea1c667d68df54941": {
     "model_module": "@jupyter-widgets/controls",
     "model_module_version": "1.5.0",
     "model_name": "DescriptionStyleModel",
     "state": {
      "_model_module": "@jupyter-widgets/controls",
      "_model_module_version": "1.5.0",
      "_model_name": "DescriptionStyleModel",
      "_view_count": null,
      "_view_module": "@jupyter-widgets/base",
      "_view_module_version": "1.2.0",
      "_view_name": "StyleView",
      "description_width": ""
     }
    },
    "6cf755ae07384437b283cee87d7a4ef7": {
     "model_module": "@jupyter-widgets/controls",
     "model_module_version": "1.5.0",
     "model_name": "FloatProgressModel",
     "state": {
      "_dom_classes": [],
      "_model_module": "@jupyter-widgets/controls",
      "_model_module_version": "1.5.0",
      "_model_name": "FloatProgressModel",
      "_view_count": null,
      "_view_module": "@jupyter-widgets/controls",
      "_view_module_version": "1.5.0",
      "_view_name": "ProgressView",
      "bar_style": "success",
      "description": "",
      "description_tooltip": null,
      "layout": "IPY_MODEL_27d2eafc216c407dbb8501249cb8b23c",
      "max": 439107090,
      "min": 0,
      "orientation": "horizontal",
      "style": "IPY_MODEL_1317f6fb613a4b11b0525049b99c8302",
      "value": 439107090
     }
    },
    "7ac17a75f38f4464ab5f2e95ebc015f1": {
     "model_module": "@jupyter-widgets/controls",
     "model_module_version": "1.5.0",
     "model_name": "HTMLModel",
     "state": {
      "_dom_classes": [],
      "_model_module": "@jupyter-widgets/controls",
      "_model_module_version": "1.5.0",
      "_model_name": "HTMLModel",
      "_view_count": null,
      "_view_module": "@jupyter-widgets/controls",
      "_view_module_version": "1.5.0",
      "_view_name": "HTMLView",
      "description": "",
      "description_tooltip": null,
      "layout": "IPY_MODEL_19ed961366214494b3751eb6c1b8cfab",
      "placeholder": "​",
      "style": "IPY_MODEL_cafc23f4dd4c4e108c4755bac35eb35f",
      "value": "pytorch_model.bin: 100%"
     }
    },
    "8c29a9b2db8d4cff9ec58ce7675abb7a": {
     "model_module": "@jupyter-widgets/base",
     "model_module_version": "1.2.0",
     "model_name": "LayoutModel",
     "state": {
      "_model_module": "@jupyter-widgets/base",
      "_model_module_version": "1.2.0",
      "_model_name": "LayoutModel",
      "_view_count": null,
      "_view_module": "@jupyter-widgets/base",
      "_view_module_version": "1.2.0",
      "_view_name": "LayoutView",
      "align_content": null,
      "align_items": null,
      "align_self": null,
      "border": null,
      "bottom": null,
      "display": null,
      "flex": null,
      "flex_flow": null,
      "grid_area": null,
      "grid_auto_columns": null,
      "grid_auto_flow": null,
      "grid_auto_rows": null,
      "grid_column": null,
      "grid_gap": null,
      "grid_row": null,
      "grid_template_areas": null,
      "grid_template_columns": null,
      "grid_template_rows": null,
      "height": null,
      "justify_content": null,
      "justify_items": null,
      "left": null,
      "margin": null,
      "max_height": null,
      "max_width": null,
      "min_height": null,
      "min_width": null,
      "object_fit": null,
      "object_position": null,
      "order": null,
      "overflow": null,
      "overflow_x": null,
      "overflow_y": null,
      "padding": null,
      "right": null,
      "top": null,
      "visibility": null,
      "width": null
     }
    },
    "9245bb3bb24b4fa8acca2117c4732276": {
     "model_module": "@jupyter-widgets/controls",
     "model_module_version": "1.5.0",
     "model_name": "HTMLModel",
     "state": {
      "_dom_classes": [],
      "_model_module": "@jupyter-widgets/controls",
      "_model_module_version": "1.5.0",
      "_model_name": "HTMLModel",
      "_view_count": null,
      "_view_module": "@jupyter-widgets/controls",
      "_view_module_version": "1.5.0",
      "_view_name": "HTMLView",
      "description": "",
      "description_tooltip": null,
      "layout": "IPY_MODEL_e17895739a4644749cbd326c84d2dc28",
      "placeholder": "​",
      "style": "IPY_MODEL_42943baebb8d4a9c9487707c56560c65",
      "value": " 226k/226k [00:00&lt;00:00, 1.48MB/s]"
     }
    },
    "99293c7928f243b2a8f96b9ecfaf4a36": {
     "model_module": "@jupyter-widgets/controls",
     "model_module_version": "1.5.0",
     "model_name": "HTMLModel",
     "state": {
      "_dom_classes": [],
      "_model_module": "@jupyter-widgets/controls",
      "_model_module_version": "1.5.0",
      "_model_name": "HTMLModel",
      "_view_count": null,
      "_view_module": "@jupyter-widgets/controls",
      "_view_module_version": "1.5.0",
      "_view_name": "HTMLView",
      "description": "",
      "description_tooltip": null,
      "layout": "IPY_MODEL_9ff304a5d5004520a8657cbc4fee9747",
      "placeholder": "​",
      "style": "IPY_MODEL_9936d4ec1fc54fbe96523860589d08c3",
      "value": "config.json: 100%"
     }
    },
    "9936d4ec1fc54fbe96523860589d08c3": {
     "model_module": "@jupyter-widgets/controls",
     "model_module_version": "1.5.0",
     "model_name": "DescriptionStyleModel",
     "state": {
      "_model_module": "@jupyter-widgets/controls",
      "_model_module_version": "1.5.0",
      "_model_name": "DescriptionStyleModel",
      "_view_count": null,
      "_view_module": "@jupyter-widgets/base",
      "_view_module_version": "1.2.0",
      "_view_name": "StyleView",
      "description_width": ""
     }
    },
    "9ed58813325641629519a215b41ad66e": {
     "model_module": "@jupyter-widgets/base",
     "model_module_version": "1.2.0",
     "model_name": "LayoutModel",
     "state": {
      "_model_module": "@jupyter-widgets/base",
      "_model_module_version": "1.2.0",
      "_model_name": "LayoutModel",
      "_view_count": null,
      "_view_module": "@jupyter-widgets/base",
      "_view_module_version": "1.2.0",
      "_view_name": "LayoutView",
      "align_content": null,
      "align_items": null,
      "align_self": null,
      "border": null,
      "bottom": null,
      "display": null,
      "flex": null,
      "flex_flow": null,
      "grid_area": null,
      "grid_auto_columns": null,
      "grid_auto_flow": null,
      "grid_auto_rows": null,
      "grid_column": null,
      "grid_gap": null,
      "grid_row": null,
      "grid_template_areas": null,
      "grid_template_columns": null,
      "grid_template_rows": null,
      "height": null,
      "justify_content": null,
      "justify_items": null,
      "left": null,
      "margin": null,
      "max_height": null,
      "max_width": null,
      "min_height": null,
      "min_width": null,
      "object_fit": null,
      "object_position": null,
      "order": null,
      "overflow": null,
      "overflow_x": null,
      "overflow_y": null,
      "padding": null,
      "right": null,
      "top": null,
      "visibility": null,
      "width": null
     }
    },
    "9ff304a5d5004520a8657cbc4fee9747": {
     "model_module": "@jupyter-widgets/base",
     "model_module_version": "1.2.0",
     "model_name": "LayoutModel",
     "state": {
      "_model_module": "@jupyter-widgets/base",
      "_model_module_version": "1.2.0",
      "_model_name": "LayoutModel",
      "_view_count": null,
      "_view_module": "@jupyter-widgets/base",
      "_view_module_version": "1.2.0",
      "_view_name": "LayoutView",
      "align_content": null,
      "align_items": null,
      "align_self": null,
      "border": null,
      "bottom": null,
      "display": null,
      "flex": null,
      "flex_flow": null,
      "grid_area": null,
      "grid_auto_columns": null,
      "grid_auto_flow": null,
      "grid_auto_rows": null,
      "grid_column": null,
      "grid_gap": null,
      "grid_row": null,
      "grid_template_areas": null,
      "grid_template_columns": null,
      "grid_template_rows": null,
      "height": null,
      "justify_content": null,
      "justify_items": null,
      "left": null,
      "margin": null,
      "max_height": null,
      "max_width": null,
      "min_height": null,
      "min_width": null,
      "object_fit": null,
      "object_position": null,
      "order": null,
      "overflow": null,
      "overflow_x": null,
      "overflow_y": null,
      "padding": null,
      "right": null,
      "top": null,
      "visibility": null,
      "width": null
     }
    },
    "a66c9b08338a4aa7a24bdd56653a529a": {
     "model_module": "@jupyter-widgets/base",
     "model_module_version": "1.2.0",
     "model_name": "LayoutModel",
     "state": {
      "_model_module": "@jupyter-widgets/base",
      "_model_module_version": "1.2.0",
      "_model_name": "LayoutModel",
      "_view_count": null,
      "_view_module": "@jupyter-widgets/base",
      "_view_module_version": "1.2.0",
      "_view_name": "LayoutView",
      "align_content": null,
      "align_items": null,
      "align_self": null,
      "border": null,
      "bottom": null,
      "display": null,
      "flex": null,
      "flex_flow": null,
      "grid_area": null,
      "grid_auto_columns": null,
      "grid_auto_flow": null,
      "grid_auto_rows": null,
      "grid_column": null,
      "grid_gap": null,
      "grid_row": null,
      "grid_template_areas": null,
      "grid_template_columns": null,
      "grid_template_rows": null,
      "height": null,
      "justify_content": null,
      "justify_items": null,
      "left": null,
      "margin": null,
      "max_height": null,
      "max_width": null,
      "min_height": null,
      "min_width": null,
      "object_fit": null,
      "object_position": null,
      "order": null,
      "overflow": null,
      "overflow_x": null,
      "overflow_y": null,
      "padding": null,
      "right": null,
      "top": null,
      "visibility": null,
      "width": null
     }
    },
    "a6f05d29fec84bca9a064b6aad9baf95": {
     "model_module": "@jupyter-widgets/controls",
     "model_module_version": "1.5.0",
     "model_name": "DescriptionStyleModel",
     "state": {
      "_model_module": "@jupyter-widgets/controls",
      "_model_module_version": "1.5.0",
      "_model_name": "DescriptionStyleModel",
      "_view_count": null,
      "_view_module": "@jupyter-widgets/base",
      "_view_module_version": "1.2.0",
      "_view_name": "StyleView",
      "description_width": ""
     }
    },
    "baf1bbc752124ec2bef19c182a4c5d17": {
     "model_module": "@jupyter-widgets/base",
     "model_module_version": "1.2.0",
     "model_name": "LayoutModel",
     "state": {
      "_model_module": "@jupyter-widgets/base",
      "_model_module_version": "1.2.0",
      "_model_name": "LayoutModel",
      "_view_count": null,
      "_view_module": "@jupyter-widgets/base",
      "_view_module_version": "1.2.0",
      "_view_name": "LayoutView",
      "align_content": null,
      "align_items": null,
      "align_self": null,
      "border": null,
      "bottom": null,
      "display": null,
      "flex": null,
      "flex_flow": null,
      "grid_area": null,
      "grid_auto_columns": null,
      "grid_auto_flow": null,
      "grid_auto_rows": null,
      "grid_column": null,
      "grid_gap": null,
      "grid_row": null,
      "grid_template_areas": null,
      "grid_template_columns": null,
      "grid_template_rows": null,
      "height": null,
      "justify_content": null,
      "justify_items": null,
      "left": null,
      "margin": null,
      "max_height": null,
      "max_width": null,
      "min_height": null,
      "min_width": null,
      "object_fit": null,
      "object_position": null,
      "order": null,
      "overflow": null,
      "overflow_x": null,
      "overflow_y": null,
      "padding": null,
      "right": null,
      "top": null,
      "visibility": null,
      "width": null
     }
    },
    "c485c35ae2804a37991bb6c2577e7576": {
     "model_module": "@jupyter-widgets/base",
     "model_module_version": "1.2.0",
     "model_name": "LayoutModel",
     "state": {
      "_model_module": "@jupyter-widgets/base",
      "_model_module_version": "1.2.0",
      "_model_name": "LayoutModel",
      "_view_count": null,
      "_view_module": "@jupyter-widgets/base",
      "_view_module_version": "1.2.0",
      "_view_name": "LayoutView",
      "align_content": null,
      "align_items": null,
      "align_self": null,
      "border": null,
      "bottom": null,
      "display": null,
      "flex": null,
      "flex_flow": null,
      "grid_area": null,
      "grid_auto_columns": null,
      "grid_auto_flow": null,
      "grid_auto_rows": null,
      "grid_column": null,
      "grid_gap": null,
      "grid_row": null,
      "grid_template_areas": null,
      "grid_template_columns": null,
      "grid_template_rows": null,
      "height": null,
      "justify_content": null,
      "justify_items": null,
      "left": null,
      "margin": null,
      "max_height": null,
      "max_width": null,
      "min_height": null,
      "min_width": null,
      "object_fit": null,
      "object_position": null,
      "order": null,
      "overflow": null,
      "overflow_x": null,
      "overflow_y": null,
      "padding": null,
      "right": null,
      "top": null,
      "visibility": null,
      "width": null
     }
    },
    "c4f8d4f2412348eda3684094cb3216d5": {
     "model_module": "@jupyter-widgets/controls",
     "model_module_version": "1.5.0",
     "model_name": "HBoxModel",
     "state": {
      "_dom_classes": [],
      "_model_module": "@jupyter-widgets/controls",
      "_model_module_version": "1.5.0",
      "_model_name": "HBoxModel",
      "_view_count": null,
      "_view_module": "@jupyter-widgets/controls",
      "_view_module_version": "1.5.0",
      "_view_name": "HBoxView",
      "box_style": "",
      "children": [
       "IPY_MODEL_99293c7928f243b2a8f96b9ecfaf4a36",
       "IPY_MODEL_4a333ec745614a48a9de496bf36d2959",
       "IPY_MODEL_f12a8f055ab44f8fbe8649f30c4c26a3"
      ],
      "layout": "IPY_MODEL_44d7ae2c210245d198639765d930004b"
     }
    },
    "cafc23f4dd4c4e108c4755bac35eb35f": {
     "model_module": "@jupyter-widgets/controls",
     "model_module_version": "1.5.0",
     "model_name": "DescriptionStyleModel",
     "state": {
      "_model_module": "@jupyter-widgets/controls",
      "_model_module_version": "1.5.0",
      "_model_name": "DescriptionStyleModel",
      "_view_count": null,
      "_view_module": "@jupyter-widgets/base",
      "_view_module_version": "1.2.0",
      "_view_name": "StyleView",
      "description_width": ""
     }
    },
    "e17895739a4644749cbd326c84d2dc28": {
     "model_module": "@jupyter-widgets/base",
     "model_module_version": "1.2.0",
     "model_name": "LayoutModel",
     "state": {
      "_model_module": "@jupyter-widgets/base",
      "_model_module_version": "1.2.0",
      "_model_name": "LayoutModel",
      "_view_count": null,
      "_view_module": "@jupyter-widgets/base",
      "_view_module_version": "1.2.0",
      "_view_name": "LayoutView",
      "align_content": null,
      "align_items": null,
      "align_self": null,
      "border": null,
      "bottom": null,
      "display": null,
      "flex": null,
      "flex_flow": null,
      "grid_area": null,
      "grid_auto_columns": null,
      "grid_auto_flow": null,
      "grid_auto_rows": null,
      "grid_column": null,
      "grid_gap": null,
      "grid_row": null,
      "grid_template_areas": null,
      "grid_template_columns": null,
      "grid_template_rows": null,
      "height": null,
      "justify_content": null,
      "justify_items": null,
      "left": null,
      "margin": null,
      "max_height": null,
      "max_width": null,
      "min_height": null,
      "min_width": null,
      "object_fit": null,
      "object_position": null,
      "order": null,
      "overflow": null,
      "overflow_x": null,
      "overflow_y": null,
      "padding": null,
      "right": null,
      "top": null,
      "visibility": null,
      "width": null
     }
    },
    "e5d9668c7cb242189079c0d4f1bd47a0": {
     "model_module": "@jupyter-widgets/controls",
     "model_module_version": "1.5.0",
     "model_name": "ProgressStyleModel",
     "state": {
      "_model_module": "@jupyter-widgets/controls",
      "_model_module_version": "1.5.0",
      "_model_name": "ProgressStyleModel",
      "_view_count": null,
      "_view_module": "@jupyter-widgets/base",
      "_view_module_version": "1.2.0",
      "_view_name": "StyleView",
      "bar_color": null,
      "description_width": ""
     }
    },
    "f12a8f055ab44f8fbe8649f30c4c26a3": {
     "model_module": "@jupyter-widgets/controls",
     "model_module_version": "1.5.0",
     "model_name": "HTMLModel",
     "state": {
      "_dom_classes": [],
      "_model_module": "@jupyter-widgets/controls",
      "_model_module_version": "1.5.0",
      "_model_name": "HTMLModel",
      "_view_count": null,
      "_view_module": "@jupyter-widgets/controls",
      "_view_module_version": "1.5.0",
      "_view_name": "HTMLView",
      "description": "",
      "description_tooltip": null,
      "layout": "IPY_MODEL_c485c35ae2804a37991bb6c2577e7576",
      "placeholder": "​",
      "style": "IPY_MODEL_5b45f2e2ef0446fea1c667d68df54941",
      "value": " 781/781 [00:00&lt;00:00, 25.2kB/s]"
     }
    },
    "fdcf1a41059f42079f7a9beebaa28cac": {
     "model_module": "@jupyter-widgets/base",
     "model_module_version": "1.2.0",
     "model_name": "LayoutModel",
     "state": {
      "_model_module": "@jupyter-widgets/base",
      "_model_module_version": "1.2.0",
      "_model_name": "LayoutModel",
      "_view_count": null,
      "_view_module": "@jupyter-widgets/base",
      "_view_module_version": "1.2.0",
      "_view_name": "LayoutView",
      "align_content": null,
      "align_items": null,
      "align_self": null,
      "border": null,
      "bottom": null,
      "display": null,
      "flex": null,
      "flex_flow": null,
      "grid_area": null,
      "grid_auto_columns": null,
      "grid_auto_flow": null,
      "grid_auto_rows": null,
      "grid_column": null,
      "grid_gap": null,
      "grid_row": null,
      "grid_template_areas": null,
      "grid_template_columns": null,
      "grid_template_rows": null,
      "height": null,
      "justify_content": null,
      "justify_items": null,
      "left": null,
      "margin": null,
      "max_height": null,
      "max_width": null,
      "min_height": null,
      "min_width": null,
      "object_fit": null,
      "object_position": null,
      "order": null,
      "overflow": null,
      "overflow_x": null,
      "overflow_y": null,
      "padding": null,
      "right": null,
      "top": null,
      "visibility": null,
      "width": null
     }
    }
   }
  }
 },
 "nbformat": 4,
 "nbformat_minor": 0
}
